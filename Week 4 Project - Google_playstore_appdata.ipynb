{
 "cells": [
  {
   "cell_type": "markdown",
   "id": "373e1001",
   "metadata": {},
   "source": [
    "# Google App Store: App Data"
   ]
  },
  {
   "cell_type": "markdown",
   "id": "72a29a56",
   "metadata": {},
   "source": [
    "Situation -  Developers of apps of Google App Store want to predict the success of their app and incorporate features which makes an app successful. "
   ]
  },
  {
   "cell_type": "raw",
   "id": "c9e70ef9",
   "metadata": {},
   "source": [
    "Task - To investigate \"App Ratings\" are provided by the customers through EDA on attributes like App Category, Price, Reviews, Installs, and so on "
   ]
  },
  {
   "cell_type": "raw",
   "id": "11ba6df7",
   "metadata": {},
   "source": [
    "4D Framework:\n",
    "Part - 1 - Data\n",
    "Part - 2 - Descriptive Analysis\n",
    "Part - 3 - Data Modeling\n",
    "Part 4 - Deploy the Model\n",
    "\n",
    "Here, we will focus only the top three parts of the 4-D framework"
   ]
  },
  {
   "cell_type": "markdown",
   "id": "9032cf70",
   "metadata": {},
   "source": [
    "1 - Data\n",
    "Data Comprises: We have the data from the of the dataset for app store such as different category apps, type of app, ratings, reviews, size of an app, installs made so far, and price of each app category\n",
    "\n",
    "2 - Descriptive Analysis \n",
    "Data cleaning \n",
    "Analysis of Overall Usder Ratings on app in the app store \n",
    "Data Standardization\n",
    "Visualization of average rating for different category apps in the app store\n",
    "Descriptive Analysis - \"Summarizing via visualization\"\n",
    "\n",
    "3 - Data Modeling\n",
    "Building a model by splitting the data into Train and Test while keeping the Rating as the target variable"
   ]
  },
  {
   "cell_type": "raw",
   "id": "35c34271",
   "metadata": {},
   "source": [
    "Results - Overall \"User Ratings\" to apps provided by the customers based on App Category, Price, and Reviews"
   ]
  },
  {
   "cell_type": "markdown",
   "id": "c38983b0",
   "metadata": {},
   "source": [
    "### Import the Required Libraries and Load the Dataset"
   ]
  },
  {
   "cell_type": "code",
   "execution_count": 410,
   "id": "ecc914fa",
   "metadata": {},
   "outputs": [],
   "source": [
    "import math\n",
    "%matplotlib inline\n",
    "import numpy as np\n",
    "import pandas as pd\n",
    "import matplotlib as mpl\n",
    "import matplotlib.cm as cm\n",
    "import matplotlib.pyplot as plt\n",
    "import scipy as sp\n",
    "import seaborn as sns\n",
    "# from sklearn.preprocessing import PolynomialFeatures\n",
    "from sklearn.linear_model import LinearRegression\n",
    "from sklearn.model_selection import train_test_split\n",
    "from sklearn.metrics import r2_score\n",
    "from sklearn.metrics import mean_squared_error \n",
    "from sklearn.metrics import mean_absolute_error\n",
    "import warnings\n",
    "warnings.filterwarnings('ignore')\n",
    "path = 'C:\\\\Users\\\\ASUS\\\\Downloads\\\\'"
   ]
  },
  {
   "cell_type": "code",
   "execution_count": 454,
   "id": "d3990d99",
   "metadata": {
    "scrolled": true
   },
   "outputs": [
    {
     "data": {
      "text/html": [
       "<div>\n",
       "<style scoped>\n",
       "    .dataframe tbody tr th:only-of-type {\n",
       "        vertical-align: middle;\n",
       "    }\n",
       "\n",
       "    .dataframe tbody tr th {\n",
       "        vertical-align: top;\n",
       "    }\n",
       "\n",
       "    .dataframe thead th {\n",
       "        text-align: right;\n",
       "    }\n",
       "</style>\n",
       "<table border=\"1\" class=\"dataframe\">\n",
       "  <thead>\n",
       "    <tr style=\"text-align: right;\">\n",
       "      <th></th>\n",
       "      <th>App</th>\n",
       "      <th>Category</th>\n",
       "      <th>Rating</th>\n",
       "      <th>Reviews</th>\n",
       "      <th>Size</th>\n",
       "      <th>Installs</th>\n",
       "      <th>Type</th>\n",
       "      <th>Price</th>\n",
       "      <th>Content Rating</th>\n",
       "      <th>Genres</th>\n",
       "      <th>Last Updated</th>\n",
       "      <th>Current Ver</th>\n",
       "      <th>Android Ver</th>\n",
       "    </tr>\n",
       "  </thead>\n",
       "  <tbody>\n",
       "    <tr>\n",
       "      <th>0</th>\n",
       "      <td>Photo Editor &amp; Candy Camera &amp; Grid &amp; ScrapBook</td>\n",
       "      <td>ART_AND_DESIGN</td>\n",
       "      <td>4.1</td>\n",
       "      <td>159</td>\n",
       "      <td>19M</td>\n",
       "      <td>10,000+</td>\n",
       "      <td>Free</td>\n",
       "      <td>0</td>\n",
       "      <td>Everyone</td>\n",
       "      <td>Art &amp; Design</td>\n",
       "      <td>January 7, 2018</td>\n",
       "      <td>1.0.0</td>\n",
       "      <td>4.0.3 and up</td>\n",
       "    </tr>\n",
       "    <tr>\n",
       "      <th>1</th>\n",
       "      <td>Coloring book moana</td>\n",
       "      <td>ART_AND_DESIGN</td>\n",
       "      <td>3.9</td>\n",
       "      <td>967</td>\n",
       "      <td>14M</td>\n",
       "      <td>500,000+</td>\n",
       "      <td>Free</td>\n",
       "      <td>0</td>\n",
       "      <td>Everyone</td>\n",
       "      <td>Art &amp; Design;Pretend Play</td>\n",
       "      <td>January 15, 2018</td>\n",
       "      <td>2.0.0</td>\n",
       "      <td>4.0.3 and up</td>\n",
       "    </tr>\n",
       "    <tr>\n",
       "      <th>2</th>\n",
       "      <td>U Launcher Lite – FREE Live Cool Themes, Hide ...</td>\n",
       "      <td>ART_AND_DESIGN</td>\n",
       "      <td>4.7</td>\n",
       "      <td>87510</td>\n",
       "      <td>8.7M</td>\n",
       "      <td>5,000,000+</td>\n",
       "      <td>Free</td>\n",
       "      <td>0</td>\n",
       "      <td>Everyone</td>\n",
       "      <td>Art &amp; Design</td>\n",
       "      <td>August 1, 2018</td>\n",
       "      <td>1.2.4</td>\n",
       "      <td>4.0.3 and up</td>\n",
       "    </tr>\n",
       "    <tr>\n",
       "      <th>3</th>\n",
       "      <td>Sketch - Draw &amp; Paint</td>\n",
       "      <td>ART_AND_DESIGN</td>\n",
       "      <td>4.5</td>\n",
       "      <td>215644</td>\n",
       "      <td>25M</td>\n",
       "      <td>50,000,000+</td>\n",
       "      <td>Free</td>\n",
       "      <td>0</td>\n",
       "      <td>Teen</td>\n",
       "      <td>Art &amp; Design</td>\n",
       "      <td>June 8, 2018</td>\n",
       "      <td>Varies with device</td>\n",
       "      <td>4.2 and up</td>\n",
       "    </tr>\n",
       "    <tr>\n",
       "      <th>4</th>\n",
       "      <td>Pixel Draw - Number Art Coloring Book</td>\n",
       "      <td>ART_AND_DESIGN</td>\n",
       "      <td>4.3</td>\n",
       "      <td>967</td>\n",
       "      <td>2.8M</td>\n",
       "      <td>100,000+</td>\n",
       "      <td>Free</td>\n",
       "      <td>0</td>\n",
       "      <td>Everyone</td>\n",
       "      <td>Art &amp; Design;Creativity</td>\n",
       "      <td>June 20, 2018</td>\n",
       "      <td>1.1</td>\n",
       "      <td>4.4 and up</td>\n",
       "    </tr>\n",
       "    <tr>\n",
       "      <th>5</th>\n",
       "      <td>Paper flowers instructions</td>\n",
       "      <td>ART_AND_DESIGN</td>\n",
       "      <td>4.4</td>\n",
       "      <td>167</td>\n",
       "      <td>5.6M</td>\n",
       "      <td>50,000+</td>\n",
       "      <td>Free</td>\n",
       "      <td>0</td>\n",
       "      <td>Everyone</td>\n",
       "      <td>Art &amp; Design</td>\n",
       "      <td>March 26, 2017</td>\n",
       "      <td>1.0</td>\n",
       "      <td>2.3 and up</td>\n",
       "    </tr>\n",
       "    <tr>\n",
       "      <th>6</th>\n",
       "      <td>Smoke Effect Photo Maker - Smoke Editor</td>\n",
       "      <td>ART_AND_DESIGN</td>\n",
       "      <td>3.8</td>\n",
       "      <td>178</td>\n",
       "      <td>19M</td>\n",
       "      <td>50,000+</td>\n",
       "      <td>Free</td>\n",
       "      <td>0</td>\n",
       "      <td>Everyone</td>\n",
       "      <td>Art &amp; Design</td>\n",
       "      <td>April 26, 2018</td>\n",
       "      <td>1.1</td>\n",
       "      <td>4.0.3 and up</td>\n",
       "    </tr>\n",
       "    <tr>\n",
       "      <th>7</th>\n",
       "      <td>Infinite Painter</td>\n",
       "      <td>ART_AND_DESIGN</td>\n",
       "      <td>4.1</td>\n",
       "      <td>36815</td>\n",
       "      <td>29M</td>\n",
       "      <td>1,000,000+</td>\n",
       "      <td>Free</td>\n",
       "      <td>0</td>\n",
       "      <td>Everyone</td>\n",
       "      <td>Art &amp; Design</td>\n",
       "      <td>June 14, 2018</td>\n",
       "      <td>6.1.61.1</td>\n",
       "      <td>4.2 and up</td>\n",
       "    </tr>\n",
       "    <tr>\n",
       "      <th>8</th>\n",
       "      <td>Garden Coloring Book</td>\n",
       "      <td>ART_AND_DESIGN</td>\n",
       "      <td>4.4</td>\n",
       "      <td>13791</td>\n",
       "      <td>33M</td>\n",
       "      <td>1,000,000+</td>\n",
       "      <td>Free</td>\n",
       "      <td>0</td>\n",
       "      <td>Everyone</td>\n",
       "      <td>Art &amp; Design</td>\n",
       "      <td>September 20, 2017</td>\n",
       "      <td>2.9.2</td>\n",
       "      <td>3.0 and up</td>\n",
       "    </tr>\n",
       "    <tr>\n",
       "      <th>9</th>\n",
       "      <td>Kids Paint Free - Drawing Fun</td>\n",
       "      <td>ART_AND_DESIGN</td>\n",
       "      <td>4.7</td>\n",
       "      <td>121</td>\n",
       "      <td>3.1M</td>\n",
       "      <td>10,000+</td>\n",
       "      <td>Free</td>\n",
       "      <td>0</td>\n",
       "      <td>Everyone</td>\n",
       "      <td>Art &amp; Design;Creativity</td>\n",
       "      <td>July 3, 2018</td>\n",
       "      <td>2.8</td>\n",
       "      <td>4.0.3 and up</td>\n",
       "    </tr>\n",
       "    <tr>\n",
       "      <th>10</th>\n",
       "      <td>Text on Photo - Fonteee</td>\n",
       "      <td>ART_AND_DESIGN</td>\n",
       "      <td>4.4</td>\n",
       "      <td>13880</td>\n",
       "      <td>28M</td>\n",
       "      <td>1,000,000+</td>\n",
       "      <td>Free</td>\n",
       "      <td>0</td>\n",
       "      <td>Everyone</td>\n",
       "      <td>Art &amp; Design</td>\n",
       "      <td>October 27, 2017</td>\n",
       "      <td>1.0.4</td>\n",
       "      <td>4.1 and up</td>\n",
       "    </tr>\n",
       "    <tr>\n",
       "      <th>11</th>\n",
       "      <td>Name Art Photo Editor - Focus n Filters</td>\n",
       "      <td>ART_AND_DESIGN</td>\n",
       "      <td>4.4</td>\n",
       "      <td>8788</td>\n",
       "      <td>12M</td>\n",
       "      <td>1,000,000+</td>\n",
       "      <td>Free</td>\n",
       "      <td>0</td>\n",
       "      <td>Everyone</td>\n",
       "      <td>Art &amp; Design</td>\n",
       "      <td>July 31, 2018</td>\n",
       "      <td>1.0.15</td>\n",
       "      <td>4.0 and up</td>\n",
       "    </tr>\n",
       "    <tr>\n",
       "      <th>12</th>\n",
       "      <td>Tattoo Name On My Photo Editor</td>\n",
       "      <td>ART_AND_DESIGN</td>\n",
       "      <td>4.2</td>\n",
       "      <td>44829</td>\n",
       "      <td>20M</td>\n",
       "      <td>10,000,000+</td>\n",
       "      <td>Free</td>\n",
       "      <td>0</td>\n",
       "      <td>Teen</td>\n",
       "      <td>Art &amp; Design</td>\n",
       "      <td>April 2, 2018</td>\n",
       "      <td>3.8</td>\n",
       "      <td>4.1 and up</td>\n",
       "    </tr>\n",
       "    <tr>\n",
       "      <th>13</th>\n",
       "      <td>Mandala Coloring Book</td>\n",
       "      <td>ART_AND_DESIGN</td>\n",
       "      <td>4.6</td>\n",
       "      <td>4326</td>\n",
       "      <td>21M</td>\n",
       "      <td>100,000+</td>\n",
       "      <td>Free</td>\n",
       "      <td>0</td>\n",
       "      <td>Everyone</td>\n",
       "      <td>Art &amp; Design</td>\n",
       "      <td>June 26, 2018</td>\n",
       "      <td>1.0.4</td>\n",
       "      <td>4.4 and up</td>\n",
       "    </tr>\n",
       "    <tr>\n",
       "      <th>14</th>\n",
       "      <td>3D Color Pixel by Number - Sandbox Art Coloring</td>\n",
       "      <td>ART_AND_DESIGN</td>\n",
       "      <td>4.4</td>\n",
       "      <td>1518</td>\n",
       "      <td>37M</td>\n",
       "      <td>100,000+</td>\n",
       "      <td>Free</td>\n",
       "      <td>0</td>\n",
       "      <td>Everyone</td>\n",
       "      <td>Art &amp; Design</td>\n",
       "      <td>August 3, 2018</td>\n",
       "      <td>1.2.3</td>\n",
       "      <td>2.3 and up</td>\n",
       "    </tr>\n",
       "    <tr>\n",
       "      <th>15</th>\n",
       "      <td>Learn To Draw Kawaii Characters</td>\n",
       "      <td>ART_AND_DESIGN</td>\n",
       "      <td>3.2</td>\n",
       "      <td>55</td>\n",
       "      <td>2.7M</td>\n",
       "      <td>5,000+</td>\n",
       "      <td>Free</td>\n",
       "      <td>0</td>\n",
       "      <td>Everyone</td>\n",
       "      <td>Art &amp; Design</td>\n",
       "      <td>June 6, 2018</td>\n",
       "      <td>NaN</td>\n",
       "      <td>4.2 and up</td>\n",
       "    </tr>\n",
       "  </tbody>\n",
       "</table>\n",
       "</div>"
      ],
      "text/plain": [
       "                                                  App        Category  Rating  \\\n",
       "0      Photo Editor & Candy Camera & Grid & ScrapBook  ART_AND_DESIGN     4.1   \n",
       "1                                 Coloring book moana  ART_AND_DESIGN     3.9   \n",
       "2   U Launcher Lite – FREE Live Cool Themes, Hide ...  ART_AND_DESIGN     4.7   \n",
       "3                               Sketch - Draw & Paint  ART_AND_DESIGN     4.5   \n",
       "4               Pixel Draw - Number Art Coloring Book  ART_AND_DESIGN     4.3   \n",
       "5                          Paper flowers instructions  ART_AND_DESIGN     4.4   \n",
       "6             Smoke Effect Photo Maker - Smoke Editor  ART_AND_DESIGN     3.8   \n",
       "7                                    Infinite Painter  ART_AND_DESIGN     4.1   \n",
       "8                                Garden Coloring Book  ART_AND_DESIGN     4.4   \n",
       "9                       Kids Paint Free - Drawing Fun  ART_AND_DESIGN     4.7   \n",
       "10                            Text on Photo - Fonteee  ART_AND_DESIGN     4.4   \n",
       "11            Name Art Photo Editor - Focus n Filters  ART_AND_DESIGN     4.4   \n",
       "12                     Tattoo Name On My Photo Editor  ART_AND_DESIGN     4.2   \n",
       "13                              Mandala Coloring Book  ART_AND_DESIGN     4.6   \n",
       "14    3D Color Pixel by Number - Sandbox Art Coloring  ART_AND_DESIGN     4.4   \n",
       "15                    Learn To Draw Kawaii Characters  ART_AND_DESIGN     3.2   \n",
       "\n",
       "   Reviews  Size     Installs  Type Price Content Rating  \\\n",
       "0      159   19M      10,000+  Free     0       Everyone   \n",
       "1      967   14M     500,000+  Free     0       Everyone   \n",
       "2    87510  8.7M   5,000,000+  Free     0       Everyone   \n",
       "3   215644   25M  50,000,000+  Free     0           Teen   \n",
       "4      967  2.8M     100,000+  Free     0       Everyone   \n",
       "5      167  5.6M      50,000+  Free     0       Everyone   \n",
       "6      178   19M      50,000+  Free     0       Everyone   \n",
       "7    36815   29M   1,000,000+  Free     0       Everyone   \n",
       "8    13791   33M   1,000,000+  Free     0       Everyone   \n",
       "9      121  3.1M      10,000+  Free     0       Everyone   \n",
       "10   13880   28M   1,000,000+  Free     0       Everyone   \n",
       "11    8788   12M   1,000,000+  Free     0       Everyone   \n",
       "12   44829   20M  10,000,000+  Free     0           Teen   \n",
       "13    4326   21M     100,000+  Free     0       Everyone   \n",
       "14    1518   37M     100,000+  Free     0       Everyone   \n",
       "15      55  2.7M       5,000+  Free     0       Everyone   \n",
       "\n",
       "                       Genres        Last Updated         Current Ver  \\\n",
       "0                Art & Design     January 7, 2018               1.0.0   \n",
       "1   Art & Design;Pretend Play    January 15, 2018               2.0.0   \n",
       "2                Art & Design      August 1, 2018               1.2.4   \n",
       "3                Art & Design        June 8, 2018  Varies with device   \n",
       "4     Art & Design;Creativity       June 20, 2018                 1.1   \n",
       "5                Art & Design      March 26, 2017                 1.0   \n",
       "6                Art & Design      April 26, 2018                 1.1   \n",
       "7                Art & Design       June 14, 2018            6.1.61.1   \n",
       "8                Art & Design  September 20, 2017               2.9.2   \n",
       "9     Art & Design;Creativity        July 3, 2018                 2.8   \n",
       "10               Art & Design    October 27, 2017               1.0.4   \n",
       "11               Art & Design       July 31, 2018              1.0.15   \n",
       "12               Art & Design       April 2, 2018                 3.8   \n",
       "13               Art & Design       June 26, 2018               1.0.4   \n",
       "14               Art & Design      August 3, 2018               1.2.3   \n",
       "15               Art & Design        June 6, 2018                 NaN   \n",
       "\n",
       "     Android Ver  \n",
       "0   4.0.3 and up  \n",
       "1   4.0.3 and up  \n",
       "2   4.0.3 and up  \n",
       "3     4.2 and up  \n",
       "4     4.4 and up  \n",
       "5     2.3 and up  \n",
       "6   4.0.3 and up  \n",
       "7     4.2 and up  \n",
       "8     3.0 and up  \n",
       "9   4.0.3 and up  \n",
       "10    4.1 and up  \n",
       "11    4.0 and up  \n",
       "12    4.1 and up  \n",
       "13    4.4 and up  \n",
       "14    2.3 and up  \n",
       "15    4.2 and up  "
      ]
     },
     "execution_count": 454,
     "metadata": {},
     "output_type": "execute_result"
    }
   ],
   "source": [
    "# 1.1 Loading the dataset\n",
    "f = pd.read_csv(path +'GAppdata.csv')\n",
    "f.iloc[0:16]"
   ]
  },
  {
   "cell_type": "code",
   "execution_count": 442,
   "id": "74cccea9",
   "metadata": {},
   "outputs": [
    {
     "data": {
      "text/plain": [
       "(10841, 13)"
      ]
     },
     "execution_count": 442,
     "metadata": {},
     "output_type": "execute_result"
    }
   ],
   "source": [
    "# shape of a dataframe\n",
    "f.shape"
   ]
  },
  {
   "cell_type": "markdown",
   "id": "0b44189d",
   "metadata": {},
   "source": [
    "### Checking the Dataset: DataType and Column-wise"
   ]
  },
  {
   "cell_type": "code",
   "execution_count": 443,
   "id": "2cf29cbc",
   "metadata": {},
   "outputs": [
    {
     "name": "stdout",
     "output_type": "stream",
     "text": [
      "App\n",
      "Category\n",
      "Rating\n",
      "Reviews\n",
      "Size\n",
      "Installs\n",
      "Type\n",
      "Price\n",
      "Content Rating\n",
      "Genres\n",
      "Last Updated\n",
      "Current Ver\n",
      "Android Ver\n"
     ]
    }
   ],
   "source": [
    "# check for columns present in a dataframe\n",
    "for col_names in f.columns:\n",
    "    print(col_names)"
   ]
  },
  {
   "cell_type": "code",
   "execution_count": 444,
   "id": "34f22c34",
   "metadata": {},
   "outputs": [
    {
     "data": {
      "text/plain": [
       "App                object\n",
       "Category           object\n",
       "Rating            float64\n",
       "Reviews            object\n",
       "Size               object\n",
       "Installs           object\n",
       "Type               object\n",
       "Price              object\n",
       "Content Rating     object\n",
       "Genres             object\n",
       "Last Updated       object\n",
       "Current Ver        object\n",
       "Android Ver        object\n",
       "dtype: object"
      ]
     },
     "execution_count": 444,
     "metadata": {},
     "output_type": "execute_result"
    }
   ],
   "source": [
    "# Datatypes for each column\n",
    "f.dtypes"
   ]
  },
  {
   "cell_type": "code",
   "execution_count": 445,
   "id": "ba2a5372",
   "metadata": {},
   "outputs": [
    {
     "data": {
      "text/plain": [
       "object     12\n",
       "float64     1\n",
       "dtype: int64"
      ]
     },
     "execution_count": 445,
     "metadata": {},
     "output_type": "execute_result"
    }
   ],
   "source": [
    "# Numeric and object datatypes\n",
    "f.dtypes.value_counts()"
   ]
  },
  {
   "cell_type": "markdown",
   "id": "3649ddac",
   "metadata": {},
   "source": [
    " 12 object types and Rating is of float64 type"
   ]
  },
  {
   "cell_type": "code",
   "execution_count": 446,
   "id": "c67d96d7",
   "metadata": {},
   "outputs": [
    {
     "data": {
      "text/html": [
       "<div>\n",
       "<style scoped>\n",
       "    .dataframe tbody tr th:only-of-type {\n",
       "        vertical-align: middle;\n",
       "    }\n",
       "\n",
       "    .dataframe tbody tr th {\n",
       "        vertical-align: top;\n",
       "    }\n",
       "\n",
       "    .dataframe thead th {\n",
       "        text-align: right;\n",
       "    }\n",
       "</style>\n",
       "<table border=\"1\" class=\"dataframe\">\n",
       "  <thead>\n",
       "    <tr style=\"text-align: right;\">\n",
       "      <th></th>\n",
       "      <th>Rating</th>\n",
       "    </tr>\n",
       "  </thead>\n",
       "  <tbody>\n",
       "    <tr>\n",
       "      <th>count</th>\n",
       "      <td>9367.000000</td>\n",
       "    </tr>\n",
       "    <tr>\n",
       "      <th>mean</th>\n",
       "      <td>4.193338</td>\n",
       "    </tr>\n",
       "    <tr>\n",
       "      <th>std</th>\n",
       "      <td>0.537431</td>\n",
       "    </tr>\n",
       "    <tr>\n",
       "      <th>min</th>\n",
       "      <td>1.000000</td>\n",
       "    </tr>\n",
       "    <tr>\n",
       "      <th>25%</th>\n",
       "      <td>4.000000</td>\n",
       "    </tr>\n",
       "    <tr>\n",
       "      <th>50%</th>\n",
       "      <td>4.300000</td>\n",
       "    </tr>\n",
       "    <tr>\n",
       "      <th>75%</th>\n",
       "      <td>4.500000</td>\n",
       "    </tr>\n",
       "    <tr>\n",
       "      <th>max</th>\n",
       "      <td>19.000000</td>\n",
       "    </tr>\n",
       "  </tbody>\n",
       "</table>\n",
       "</div>"
      ],
      "text/plain": [
       "            Rating\n",
       "count  9367.000000\n",
       "mean      4.193338\n",
       "std       0.537431\n",
       "min       1.000000\n",
       "25%       4.000000\n",
       "50%       4.300000\n",
       "75%       4.500000\n",
       "max      19.000000"
      ]
     },
     "execution_count": 446,
     "metadata": {},
     "output_type": "execute_result"
    }
   ],
   "source": [
    "# Summary Statistics for a numeric value only: \"Rating\"\n",
    "f.describe()"
   ]
  },
  {
   "cell_type": "code",
   "execution_count": 252,
   "id": "04d2de58",
   "metadata": {},
   "outputs": [
    {
     "data": {
      "text/plain": [
       "<AxesSubplot:ylabel='Rating'>"
      ]
     },
     "execution_count": 252,
     "metadata": {},
     "output_type": "execute_result"
    },
    {
     "data": {
      "image/png": "[encoded data removed]",
      "text/plain": [
       "<Figure size 432x288 with 1 Axes>"
      ]
     },
     "metadata": {
      "needs_background": "light"
     },
     "output_type": "display_data"
    }
   ],
   "source": [
    "sns.boxplot(y = f['Rating'])"
   ]
  },
  {
   "cell_type": "markdown",
   "id": "43fa0d94",
   "metadata": {},
   "source": [
    "The above boxplot on \"Rating\" shows that most of my data is concentrated between 2.5 and 5.0. Besides we have one outlifer after 17.5 rating."
   ]
  },
  {
   "cell_type": "code",
   "execution_count": 437,
   "id": "5d48c10d",
   "metadata": {},
   "outputs": [
    {
     "data": {
      "text/plain": [
       "<seaborn.axisgrid.FacetGrid at 0x23e81c1dfd0>"
      ]
     },
     "execution_count": 437,
     "metadata": {},
     "output_type": "execute_result"
    },
    {
     "data": {
      "image/png": "[encoded data removed]",
      "text/plain": [
       "<Figure size 360x360 with 1 Axes>"
      ]
     },
     "metadata": {
      "needs_background": "light"
     },
     "output_type": "display_data"
    }
   ],
   "source": [
    "sns.displot(f['Rating'])"
   ]
  },
  {
   "cell_type": "code",
   "execution_count": 438,
   "id": "7a46a2c9",
   "metadata": {
    "scrolled": true
   },
   "outputs": [
    {
     "name": "stdout",
     "output_type": "stream",
     "text": [
      "0.5956367473804342\n"
     ]
    }
   ],
   "source": [
    "print(f['Rating'].skew())"
   ]
  },
  {
   "cell_type": "code",
   "execution_count": 439,
   "id": "db786e89",
   "metadata": {},
   "outputs": [
    {
     "name": "stdout",
     "output_type": "stream",
     "text": [
      "Rating    4.193338\n",
      "dtype: float64\n"
     ]
    }
   ],
   "source": [
    "print(f.mean())"
   ]
  },
  {
   "cell_type": "code",
   "execution_count": 440,
   "id": "c7993f15",
   "metadata": {},
   "outputs": [
    {
     "name": "stdout",
     "output_type": "stream",
     "text": [
      "Rating    4.3\n",
      "dtype: float64\n"
     ]
    }
   ],
   "source": [
    "print(f.median())"
   ]
  },
  {
   "cell_type": "code",
   "execution_count": 441,
   "id": "dad59e17",
   "metadata": {},
   "outputs": [
    {
     "name": "stdout",
     "output_type": "stream",
     "text": [
      "      App Category  Rating Reviews                Size    Installs  Type  \\\n",
      "0  ROBLOX   FAMILY     4.4       0  Varies with device  1,000,000+  Free   \n",
      "\n",
      "  Price Content Rating Genres    Last Updated         Current Ver Android Ver  \n",
      "0     0       Everyone  Tools  August 3, 2018  Varies with device  4.1 and up  \n"
     ]
    }
   ],
   "source": [
    "print(f.mode())"
   ]
  },
  {
   "cell_type": "raw",
   "id": "89f4f0b0",
   "metadata": {},
   "source": [
    "# Mean lies to the left of the mode and the median. Mean lies between 4.0 and 4.2\n",
    "# Mode is to the right, which is 4.4\n",
    "# Median is to the right of the mean, which is 4.3\n",
    "# Mean is to the left of the mode and median both\n",
    "# Mean < Mode and Median\n",
    "# Value counts of mode, 4.4 are higher positive (1108) than the mean count (951)\n",
    "# The tail is to the left and the skew value is -1.85 (negative)\n",
    "\n",
    "# Hence the distibution is not normal, the graph is right-skewed"
   ]
  },
  {
   "cell_type": "markdown",
   "id": "93cbf2ce",
   "metadata": {},
   "source": [
    "### Data Cleaning"
   ]
  },
  {
   "cell_type": "code",
   "execution_count": 447,
   "id": "60dcebf5",
   "metadata": {},
   "outputs": [
    {
     "name": "stdout",
     "output_type": "stream",
     "text": [
      "<class 'pandas.core.frame.DataFrame'>\n",
      "RangeIndex: 10841 entries, 0 to 10840\n",
      "Data columns (total 13 columns):\n",
      " #   Column          Non-Null Count  Dtype  \n",
      "---  ------          --------------  -----  \n",
      " 0   App             10841 non-null  object \n",
      " 1   Category        10841 non-null  object \n",
      " 2   Rating          9367 non-null   float64\n",
      " 3   Reviews         10841 non-null  object \n",
      " 4   Size            10841 non-null  object \n",
      " 5   Installs        10841 non-null  object \n",
      " 6   Type            10840 non-null  object \n",
      " 7   Price           10841 non-null  object \n",
      " 8   Content Rating  10840 non-null  object \n",
      " 9   Genres          10841 non-null  object \n",
      " 10  Last Updated    10841 non-null  object \n",
      " 11  Current Ver     10833 non-null  object \n",
      " 12  Android Ver     10838 non-null  object \n",
      "dtypes: float64(1), object(12)\n",
      "memory usage: 1.1+ MB\n"
     ]
    }
   ],
   "source": [
    "# Null-Value Check: Info on each column to check if there are null values\n",
    "f.info()"
   ]
  },
  {
   "cell_type": "markdown",
   "id": "5af29037",
   "metadata": {},
   "source": [
    "For null-value check\n",
    "\n",
    "From the shape, it was seen that we have 10841 rows and the null-value count for each column is as follows:\n",
    "1. App, category, Reviews, Size, Installs, Price, Genres, Last Updated have no null values\n",
    "2. Rating has 9367 not-null and 1204 null values\n",
    "3. Content Rating has 10840 not-null and 1 null value\n",
    "4. Current Ver has 10833 not-null and 8 null values\n",
    "5. Android Ver has 10838 not-null and 3 null values\n",
    "6. Type has 10840 not-null and 1 null value"
   ]
  },
  {
   "cell_type": "code",
   "execution_count": 448,
   "id": "231f7f45",
   "metadata": {},
   "outputs": [
    {
     "data": {
      "text/html": [
       "<div>\n",
       "<style scoped>\n",
       "    .dataframe tbody tr th:only-of-type {\n",
       "        vertical-align: middle;\n",
       "    }\n",
       "\n",
       "    .dataframe tbody tr th {\n",
       "        vertical-align: top;\n",
       "    }\n",
       "\n",
       "    .dataframe thead th {\n",
       "        text-align: right;\n",
       "    }\n",
       "</style>\n",
       "<table border=\"1\" class=\"dataframe\">\n",
       "  <thead>\n",
       "    <tr style=\"text-align: right;\">\n",
       "      <th></th>\n",
       "      <th>App</th>\n",
       "      <th>Category</th>\n",
       "      <th>Rating</th>\n",
       "      <th>Reviews</th>\n",
       "      <th>Size</th>\n",
       "      <th>Installs</th>\n",
       "      <th>Type</th>\n",
       "      <th>Price</th>\n",
       "      <th>Content Rating</th>\n",
       "      <th>Genres</th>\n",
       "      <th>Last Updated</th>\n",
       "      <th>Current Ver</th>\n",
       "      <th>Android Ver</th>\n",
       "    </tr>\n",
       "  </thead>\n",
       "  <tbody>\n",
       "    <tr>\n",
       "      <th>0</th>\n",
       "      <td>Photo Editor &amp; Candy Camera &amp; Grid &amp; ScrapBook</td>\n",
       "      <td>ART_AND_DESIGN</td>\n",
       "      <td>4.1</td>\n",
       "      <td>159</td>\n",
       "      <td>19M</td>\n",
       "      <td>10,000+</td>\n",
       "      <td>Free</td>\n",
       "      <td>0</td>\n",
       "      <td>Everyone</td>\n",
       "      <td>Art &amp; Design</td>\n",
       "      <td>January 7, 2018</td>\n",
       "      <td>1.0.0</td>\n",
       "      <td>4.0.3 and up</td>\n",
       "    </tr>\n",
       "    <tr>\n",
       "      <th>1</th>\n",
       "      <td>Coloring book moana</td>\n",
       "      <td>ART_AND_DESIGN</td>\n",
       "      <td>3.9</td>\n",
       "      <td>967</td>\n",
       "      <td>14M</td>\n",
       "      <td>500,000+</td>\n",
       "      <td>Free</td>\n",
       "      <td>0</td>\n",
       "      <td>Everyone</td>\n",
       "      <td>Art &amp; Design;Pretend Play</td>\n",
       "      <td>January 15, 2018</td>\n",
       "      <td>2.0.0</td>\n",
       "      <td>4.0.3 and up</td>\n",
       "    </tr>\n",
       "    <tr>\n",
       "      <th>2</th>\n",
       "      <td>U Launcher Lite – FREE Live Cool Themes, Hide ...</td>\n",
       "      <td>ART_AND_DESIGN</td>\n",
       "      <td>4.7</td>\n",
       "      <td>87510</td>\n",
       "      <td>8.7M</td>\n",
       "      <td>5,000,000+</td>\n",
       "      <td>Free</td>\n",
       "      <td>0</td>\n",
       "      <td>Everyone</td>\n",
       "      <td>Art &amp; Design</td>\n",
       "      <td>August 1, 2018</td>\n",
       "      <td>1.2.4</td>\n",
       "      <td>4.0.3 and up</td>\n",
       "    </tr>\n",
       "  </tbody>\n",
       "</table>\n",
       "</div>"
      ],
      "text/plain": [
       "                                                 App        Category  Rating  \\\n",
       "0     Photo Editor & Candy Camera & Grid & ScrapBook  ART_AND_DESIGN     4.1   \n",
       "1                                Coloring book moana  ART_AND_DESIGN     3.9   \n",
       "2  U Launcher Lite – FREE Live Cool Themes, Hide ...  ART_AND_DESIGN     4.7   \n",
       "\n",
       "  Reviews  Size    Installs  Type Price Content Rating  \\\n",
       "0     159   19M     10,000+  Free     0       Everyone   \n",
       "1     967   14M    500,000+  Free     0       Everyone   \n",
       "2   87510  8.7M  5,000,000+  Free     0       Everyone   \n",
       "\n",
       "                      Genres      Last Updated Current Ver   Android Ver  \n",
       "0               Art & Design   January 7, 2018       1.0.0  4.0.3 and up  \n",
       "1  Art & Design;Pretend Play  January 15, 2018       2.0.0  4.0.3 and up  \n",
       "2               Art & Design    August 1, 2018       1.2.4  4.0.3 and up  "
      ]
     },
     "execution_count": 448,
     "metadata": {},
     "output_type": "execute_result"
    }
   ],
   "source": [
    "# check for alphanuemric datatypes\n",
    "f[f.Reviews.str.isdigit()].head(3)\n",
    "\n",
    "# In entire dataframe having 10840 rowsand 13 columns there is alphanumeric datatype that needs to be worked on!"
   ]
  },
  {
   "cell_type": "code",
   "execution_count": 455,
   "id": "48e98ac8",
   "metadata": {},
   "outputs": [
    {
     "data": {
      "text/html": [
       "<div>\n",
       "<style scoped>\n",
       "    .dataframe tbody tr th:only-of-type {\n",
       "        vertical-align: middle;\n",
       "    }\n",
       "\n",
       "    .dataframe tbody tr th {\n",
       "        vertical-align: top;\n",
       "    }\n",
       "\n",
       "    .dataframe thead th {\n",
       "        text-align: right;\n",
       "    }\n",
       "</style>\n",
       "<table border=\"1\" class=\"dataframe\">\n",
       "  <thead>\n",
       "    <tr style=\"text-align: right;\">\n",
       "      <th></th>\n",
       "      <th>App</th>\n",
       "      <th>Category</th>\n",
       "      <th>Rating</th>\n",
       "      <th>Reviews</th>\n",
       "      <th>Size</th>\n",
       "      <th>Installs</th>\n",
       "      <th>Type</th>\n",
       "      <th>Price</th>\n",
       "      <th>Content Rating</th>\n",
       "      <th>Genres</th>\n",
       "      <th>Last Updated</th>\n",
       "      <th>Current Ver</th>\n",
       "      <th>Android Ver</th>\n",
       "    </tr>\n",
       "  </thead>\n",
       "  <tbody>\n",
       "    <tr>\n",
       "      <th>10472</th>\n",
       "      <td>Life Made WI-Fi Touchscreen Photo Frame</td>\n",
       "      <td>1.9</td>\n",
       "      <td>19.0</td>\n",
       "      <td>3.0M</td>\n",
       "      <td>1,000+</td>\n",
       "      <td>Free</td>\n",
       "      <td>0</td>\n",
       "      <td>Everyone</td>\n",
       "      <td>NaN</td>\n",
       "      <td>February 11, 2018</td>\n",
       "      <td>1.0.19</td>\n",
       "      <td>4.0 and up</td>\n",
       "      <td>NaN</td>\n",
       "    </tr>\n",
       "  </tbody>\n",
       "</table>\n",
       "</div>"
      ],
      "text/plain": [
       "                                           App Category  Rating Reviews  \\\n",
       "10472  Life Made WI-Fi Touchscreen Photo Frame      1.9    19.0    3.0M   \n",
       "\n",
       "         Size Installs Type     Price Content Rating             Genres  \\\n",
       "10472  1,000+     Free    0  Everyone            NaN  February 11, 2018   \n",
       "\n",
       "      Last Updated Current Ver Android Ver  \n",
       "10472       1.0.19  4.0 and up         NaN  "
      ]
     },
     "execution_count": 455,
     "metadata": {},
     "output_type": "execute_result"
    }
   ],
   "source": [
    "# <!-- Now, in the above boxplot for \"Rating\", I saw that there was an outlier, meaning, the maximum rating is \"5\", so we need to drop that particular outlier  -->\n",
    "f[f['Rating'] > 5]"
   ]
  },
  {
   "cell_type": "markdown",
   "id": "aa6a8b2a",
   "metadata": {},
   "source": [
    "I see that row 10472 has an outlier which means the rating is \"19.0\", which is quite an nteresting thing to note\n",
    "\n",
    "Another thing, I noted here is, \"Reviews\" has a Strong format, which is \"3.0M\"\n",
    "\n",
    "So, I have already analyzed for \"Reviews\". Now, I will do for \"Reviews\" and if both of these verify that the \"row 10472\" is not valid, so I will entirely drop this row"
   ]
  },
  {
   "cell_type": "markdown",
   "id": "10074d17",
   "metadata": {},
   "source": [
    "Now, one more thing I can do here is, I can categorise my Rating into Rating_Category of \"High\" for rating > 3.5 and \"Low\" for rating < 3.5"
   ]
  },
  {
   "cell_type": "markdown",
   "id": "632459cf",
   "metadata": {},
   "source": [
    "Hence, the skewness of \"Reviews\" got reduced from 15.30 to nan"
   ]
  },
  {
   "cell_type": "code",
   "execution_count": 456,
   "id": "6cef3c06",
   "metadata": {},
   "outputs": [],
   "source": [
    "f1 = f.copy()\n",
    "f1.drop([10472],inplace = True)"
   ]
  },
  {
   "cell_type": "code",
   "execution_count": 457,
   "id": "ea902558",
   "metadata": {},
   "outputs": [
    {
     "data": {
      "text/html": [
       "<div>\n",
       "<style scoped>\n",
       "    .dataframe tbody tr th:only-of-type {\n",
       "        vertical-align: middle;\n",
       "    }\n",
       "\n",
       "    .dataframe tbody tr th {\n",
       "        vertical-align: top;\n",
       "    }\n",
       "\n",
       "    .dataframe thead th {\n",
       "        text-align: right;\n",
       "    }\n",
       "</style>\n",
       "<table border=\"1\" class=\"dataframe\">\n",
       "  <thead>\n",
       "    <tr style=\"text-align: right;\">\n",
       "      <th></th>\n",
       "      <th>App</th>\n",
       "      <th>Category</th>\n",
       "      <th>Rating</th>\n",
       "      <th>Reviews</th>\n",
       "      <th>Size</th>\n",
       "      <th>Installs</th>\n",
       "      <th>Type</th>\n",
       "      <th>Price</th>\n",
       "      <th>Content Rating</th>\n",
       "      <th>Genres</th>\n",
       "      <th>Last Updated</th>\n",
       "      <th>Current Ver</th>\n",
       "      <th>Android Ver</th>\n",
       "    </tr>\n",
       "  </thead>\n",
       "  <tbody>\n",
       "    <tr>\n",
       "      <th>10470</th>\n",
       "      <td>Jazz Wi-Fi</td>\n",
       "      <td>COMMUNICATION</td>\n",
       "      <td>3.4</td>\n",
       "      <td>49</td>\n",
       "      <td>4.0M</td>\n",
       "      <td>10,000+</td>\n",
       "      <td>Free</td>\n",
       "      <td>0</td>\n",
       "      <td>Everyone</td>\n",
       "      <td>Communication</td>\n",
       "      <td>February 10, 2017</td>\n",
       "      <td>0.1</td>\n",
       "      <td>2.3 and up</td>\n",
       "    </tr>\n",
       "    <tr>\n",
       "      <th>10471</th>\n",
       "      <td>Xposed Wi-Fi-Pwd</td>\n",
       "      <td>PERSONALIZATION</td>\n",
       "      <td>3.5</td>\n",
       "      <td>1042</td>\n",
       "      <td>404k</td>\n",
       "      <td>100,000+</td>\n",
       "      <td>Free</td>\n",
       "      <td>0</td>\n",
       "      <td>Everyone</td>\n",
       "      <td>Personalization</td>\n",
       "      <td>August 5, 2014</td>\n",
       "      <td>3.0.0</td>\n",
       "      <td>4.0.3 and up</td>\n",
       "    </tr>\n",
       "    <tr>\n",
       "      <th>10473</th>\n",
       "      <td>osmino Wi-Fi: free WiFi</td>\n",
       "      <td>TOOLS</td>\n",
       "      <td>4.2</td>\n",
       "      <td>134203</td>\n",
       "      <td>4.1M</td>\n",
       "      <td>10,000,000+</td>\n",
       "      <td>Free</td>\n",
       "      <td>0</td>\n",
       "      <td>Everyone</td>\n",
       "      <td>Tools</td>\n",
       "      <td>August 7, 2018</td>\n",
       "      <td>6.06.14</td>\n",
       "      <td>4.4 and up</td>\n",
       "    </tr>\n",
       "  </tbody>\n",
       "</table>\n",
       "</div>"
      ],
      "text/plain": [
       "                           App         Category  Rating Reviews  Size  \\\n",
       "10470               Jazz Wi-Fi    COMMUNICATION     3.4      49  4.0M   \n",
       "10471         Xposed Wi-Fi-Pwd  PERSONALIZATION     3.5    1042  404k   \n",
       "10473  osmino Wi-Fi: free WiFi            TOOLS     4.2  134203  4.1M   \n",
       "\n",
       "          Installs  Type Price Content Rating           Genres  \\\n",
       "10470      10,000+  Free     0       Everyone    Communication   \n",
       "10471     100,000+  Free     0       Everyone  Personalization   \n",
       "10473  10,000,000+  Free     0       Everyone            Tools   \n",
       "\n",
       "            Last Updated Current Ver   Android Ver  \n",
       "10470  February 10, 2017         0.1    2.3 and up  \n",
       "10471     August 5, 2014       3.0.0  4.0.3 and up  \n",
       "10473     August 7, 2018     6.06.14    4.4 and up  "
      ]
     },
     "execution_count": 457,
     "metadata": {},
     "output_type": "execute_result"
    }
   ],
   "source": [
    "# Now, let us check if we have successfully dropped this row\n",
    "f1.loc[10470:10473]"
   ]
  },
  {
   "cell_type": "code",
   "execution_count": 268,
   "id": "d2f8b2db",
   "metadata": {},
   "outputs": [
    {
     "data": {
      "text/plain": [
       "(10840, 13)"
      ]
     },
     "execution_count": 268,
     "metadata": {},
     "output_type": "execute_result"
    }
   ],
   "source": [
    "# <!-- Yeah, we were successful in dropping row \"10472\" permanantly, and let us check the shape of our dataset now -->\n",
    "f1.shape\n",
    "\n",
    "# So, now we have 10840 row, however, the columns count remain unchanged"
   ]
  },
  {
   "cell_type": "code",
   "execution_count": 269,
   "id": "2fd4f739",
   "metadata": {},
   "outputs": [
    {
     "data": {
      "text/plain": [
       "<AxesSubplot:xlabel='Reviews'>"
      ]
     },
     "execution_count": 269,
     "metadata": {},
     "output_type": "execute_result"
    },
    {
     "data": {
      "image/png": "[encoded data removed]",
      "text/plain": [
       "<Figure size 432x288 with 1 Axes>"
      ]
     },
     "metadata": {
      "needs_background": "light"
     },
     "output_type": "display_data"
    }
   ],
   "source": [
    "sns.boxplot(x = f1['Reviews'])"
   ]
  },
  {
   "cell_type": "markdown",
   "id": "f2c958b8",
   "metadata": {},
   "source": [
    "After dropping the row 10472, I see that review having a string value of '3.0M' got dropped as well and the plot for the same shows no \"outlier\" now"
   ]
  },
  {
   "cell_type": "code",
   "execution_count": 20,
   "id": "00bd43e5",
   "metadata": {
    "scrolled": true
   },
   "outputs": [
    {
     "data": {
      "text/plain": [
       "<AxesSubplot:ylabel='Rating'>"
      ]
     },
     "execution_count": 20,
     "metadata": {},
     "output_type": "execute_result"
    },
    {
     "data": {
      "image/png": "[encoded data removed]",
      "text/plain": [
       "<Figure size 432x288 with 1 Axes>"
      ]
     },
     "metadata": {
      "needs_background": "light"
     },
     "output_type": "display_data"
    }
   ],
   "source": [
    "# <!-- Now, we will see the boxplot for \"Rating\" column to see how if outlier detection occurs -->\n",
    "sns.boxplot(y = f1['Rating'])"
   ]
  },
  {
   "cell_type": "markdown",
   "id": "1558df23",
   "metadata": {},
   "source": [
    "The above boxplot for \"Rating\" shows me true value from \"0\" to \"5\" (\"19\" got removed when we dropped \"10472\" row number). Most of the rating made by people can be viewed as \"Median\" which is between 4.0 and 4.5. "
   ]
  },
  {
   "cell_type": "code",
   "execution_count": 270,
   "id": "21015cdb",
   "metadata": {},
   "outputs": [
    {
     "data": {
      "text/plain": [
       "<AxesSubplot:>"
      ]
     },
     "execution_count": 270,
     "metadata": {},
     "output_type": "execute_result"
    },
    {
     "data": {
      "image/png": "[encoded data removed]",
      "text/plain": [
       "<Figure size 432x288 with 1 Axes>"
      ]
     },
     "metadata": {
      "needs_background": "light"
     },
     "output_type": "display_data"
    }
   ],
   "source": [
    "f1['Rating'].hist()\n",
    "# We can set Grid = False, if we do not need it on our histogram"
   ]
  },
  {
   "cell_type": "markdown",
   "id": "c76a81e5",
   "metadata": {},
   "source": [
    "The above distribution graph shows that \"Rating_Category\" is at peak between 4.0 and 4.5. However, to get more clear picture of which rating either lesser than 3.5 or greater than 3.5 is given for apps on Google App Store"
   ]
  },
  {
   "cell_type": "markdown",
   "id": "bfa13277",
   "metadata": {},
   "source": [
    "Now, the above histogram for \"Rating\" shows that the graph is rightly-skewed with no \"outlier\" presence "
   ]
  },
  {
   "cell_type": "markdown",
   "id": "2daf585d",
   "metadata": {},
   "source": [
    "### Data Manipulation and Imputation"
   ]
  },
  {
   "cell_type": "markdown",
   "id": "2fc8bd74",
   "metadata": {},
   "source": [
    "#### Check for null values"
   ]
  },
  {
   "cell_type": "code",
   "execution_count": 271,
   "id": "2afc11a8",
   "metadata": {},
   "outputs": [
    {
     "data": {
      "text/plain": [
       "App                  0\n",
       "Category             0\n",
       "Rating            1474\n",
       "Reviews              0\n",
       "Size                 0\n",
       "Installs             0\n",
       "Type                 1\n",
       "Price                0\n",
       "Content Rating       0\n",
       "Genres               0\n",
       "Last Updated         0\n",
       "Current Ver          8\n",
       "Android Ver          2\n",
       "dtype: int64"
      ]
     },
     "execution_count": 271,
     "metadata": {},
     "output_type": "execute_result"
    }
   ],
   "source": [
    "f1.isna().sum()"
   ]
  },
  {
   "cell_type": "code",
   "execution_count": null,
   "id": "dddeb1d5",
   "metadata": {},
   "outputs": [],
   "source": [
    "# Null values in Rating: 1474\n",
    "# Type = 1\n",
    "# Genres = 1\n",
    "# Current Ver = 8\n",
    "# Android Ver = 3"
   ]
  },
  {
   "cell_type": "code",
   "execution_count": 272,
   "id": "fb750d18",
   "metadata": {},
   "outputs": [
    {
     "data": {
      "text/plain": [
       "App                0.000000\n",
       "Category           0.000000\n",
       "Rating            13.597786\n",
       "Reviews            0.000000\n",
       "Size               0.000000\n",
       "Installs           0.000000\n",
       "Type               0.009225\n",
       "Price              0.000000\n",
       "Content Rating     0.000000\n",
       "Genres             0.000000\n",
       "Last Updated       0.000000\n",
       "Current Ver        0.073801\n",
       "Android Ver        0.018450\n",
       "dtype: float64"
      ]
     },
     "execution_count": 272,
     "metadata": {},
     "output_type": "execute_result"
    }
   ],
   "source": [
    "# For empty data > 90%, we must check the null_percent value in our dataset\"\n",
    "# Precentage of Null Values\n",
    "per_of_null_rating_values = (f1.isna().sum())/len(f1) * 100\n",
    "per_of_null_rating_values"
   ]
  },
  {
   "cell_type": "markdown",
   "id": "dddd22e9",
   "metadata": {},
   "source": [
    "threshold = len(f1)*0.45\n",
    "threshold is 4878.45\n",
    "\n",
    "f1.dropna(thresh = threshold, axis = 1, inplace = True)\n",
    "\n",
    "axis = 1 (for dropping a column with missing values > 45%)\n",
    "axis = 0 (for dropping a row with missing values > 45%)\n",
    "\n",
    "We can perform the below operations only when null_percent > 45%, since the null_percent is max at 13.596% for \"Rating\", we do not need dropping here"
   ]
  },
  {
   "cell_type": "markdown",
   "id": "ec3be081",
   "metadata": {},
   "source": [
    "##### Check if there are any duplicate records in the dataset? if any drop them. "
   ]
  },
  {
   "cell_type": "code",
   "execution_count": 273,
   "id": "8495d7e0",
   "metadata": {},
   "outputs": [
    {
     "data": {
      "text/plain": [
       "0"
      ]
     },
     "execution_count": 273,
     "metadata": {},
     "output_type": "execute_result"
    }
   ],
   "source": [
    "f = f.duplicated()\n",
    "sum(f)\n",
    "f = f.drop_duplicates()\n",
    "f = f.duplicated()\n",
    "sum(f)"
   ]
  },
  {
   "cell_type": "markdown",
   "id": "d66ac756",
   "metadata": {},
   "source": [
    "No duplicates are found"
   ]
  },
  {
   "cell_type": "markdown",
   "id": "a408c2f2",
   "metadata": {},
   "source": [
    "#### Fill Null values with mean/median/mode"
   ]
  },
  {
   "cell_type": "code",
   "execution_count": 274,
   "id": "d2de5b89",
   "metadata": {},
   "outputs": [],
   "source": [
    "# defining a function called impute_median: Making a common median and impute it on all the missing values in our dataset\n",
    "def impute_median(series):\n",
    "    return series.fillna(series.median())"
   ]
  },
  {
   "cell_type": "code",
   "execution_count": 275,
   "id": "37992584",
   "metadata": {},
   "outputs": [
    {
     "data": {
      "text/plain": [
       "App                  0\n",
       "Category             0\n",
       "Rating            1474\n",
       "Reviews              0\n",
       "Size                 0\n",
       "Installs             0\n",
       "Type                 1\n",
       "Price                0\n",
       "Content Rating       0\n",
       "Genres               0\n",
       "Last Updated         0\n",
       "Current Ver          8\n",
       "Android Ver          2\n",
       "dtype: int64"
      ]
     },
     "execution_count": 275,
     "metadata": {},
     "output_type": "execute_result"
    }
   ],
   "source": [
    "#  Now, let us check if we have successfully imputed values by executing the above code on \"null value\" check\n",
    "f1.isna().sum()\n",
    "\n",
    "# Now, let us follow a solid approach to succeed our \"null value imputation\" task"
   ]
  },
  {
   "cell_type": "code",
   "execution_count": 276,
   "id": "33840024",
   "metadata": {},
   "outputs": [],
   "source": [
    "f1.Rating = f1['Rating'].transform(impute_median)\n",
    "#  we called a function\"impute_median\" here\n",
    "\n",
    "# or\n",
    "\n",
    "f1.Rating = f1['Rating'].fillna(f1['Rating'].median())"
   ]
  },
  {
   "cell_type": "markdown",
   "id": "611433d6",
   "metadata": {},
   "source": [
    "Here, I used impute_median wherein it takes a series, which is actually a \"Rating\" column here and perform an operation which is one of the Pandas Series operation called series.fillna and fills up all the missing values with the median value of the \"Rating\" series itself with the help of Pandas function \"median()\".\n",
    "\n",
    "Also, I imputed missing values with \"Median\" because my displot and hist is right-skewed"
   ]
  },
  {
   "cell_type": "code",
   "execution_count": 277,
   "id": "8c13c421",
   "metadata": {},
   "outputs": [
    {
     "data": {
      "text/plain": [
       "App               0\n",
       "Category          0\n",
       "Rating            0\n",
       "Reviews           0\n",
       "Size              0\n",
       "Installs          0\n",
       "Type              1\n",
       "Price             0\n",
       "Content Rating    0\n",
       "Genres            0\n",
       "Last Updated      0\n",
       "Current Ver       8\n",
       "Android Ver       2\n",
       "dtype: int64"
      ]
     },
     "execution_count": 277,
     "metadata": {},
     "output_type": "execute_result"
    }
   ],
   "source": [
    "# Now, let us recheck if we were able to impute the null values\n",
    "f1.isna().sum()"
   ]
  },
  {
   "cell_type": "markdown",
   "id": "404059c6",
   "metadata": {},
   "source": [
    "So, the numeric null values got imputed by numeric values and we are having '0' null values in Rating\n",
    "\n",
    "For categorical values, we need to check if we have \"Bimodal values or redundant values\" "
   ]
  },
  {
   "cell_type": "code",
   "execution_count": 278,
   "id": "84914b7f",
   "metadata": {},
   "outputs": [
    {
     "name": "stdout",
     "output_type": "stream",
     "text": [
      "0    Free\n",
      "Name: Type, dtype: object\n",
      "0    Varies with device\n",
      "Name: Current Ver, dtype: object\n",
      "0    4.1 and up\n",
      "Name: Android Ver, dtype: object\n",
      "0    Tools\n",
      "Name: Genres, dtype: object\n",
      "0    Everyone\n",
      "Name: Content Rating, dtype: object\n"
     ]
    }
   ],
   "source": [
    "print(f1['Type'].mode())\n",
    "print(f1['Current Ver'].mode())\n",
    "print(f1['Android Ver'].mode())\n",
    "print(f1['Genres'].mode())\n",
    "print(f1['Content Rating'].mode())"
   ]
  },
  {
   "cell_type": "markdown",
   "id": "028869a6",
   "metadata": {},
   "source": [
    "No, bimodal values found, so we have unimodal data here "
   ]
  },
  {
   "cell_type": "code",
   "execution_count": 279,
   "id": "dcc6ea13",
   "metadata": {},
   "outputs": [],
   "source": [
    "f1['Type'].fillna(str(f1['Type'].mode().values[0]),inplace = True)\n",
    "f1['Current Ver'].fillna(str(f1['Current Ver'].mode().values[0]),inplace = True)\n",
    "f1['Android Ver'].fillna(str(f1['Android Ver'].mode().values[0]),inplace = True)\n",
    "f1['Genres'].fillna(str(f1['Genres'].mode().values[0]),inplace = True)\n",
    "f1['Content Rating'].fillna(str(f1['Content Rating'].mode().values[0]),inplace = True)"
   ]
  },
  {
   "cell_type": "code",
   "execution_count": 280,
   "id": "d71c53e5",
   "metadata": {},
   "outputs": [
    {
     "data": {
      "text/plain": [
       "App               0\n",
       "Category          0\n",
       "Rating            0\n",
       "Reviews           0\n",
       "Size              0\n",
       "Installs          0\n",
       "Type              0\n",
       "Price             0\n",
       "Content Rating    0\n",
       "Genres            0\n",
       "Last Updated      0\n",
       "Current Ver       0\n",
       "Android Ver       0\n",
       "dtype: int64"
      ]
     },
     "execution_count": 280,
     "metadata": {},
     "output_type": "execute_result"
    }
   ],
   "source": [
    "f1.isna().sum()"
   ]
  },
  {
   "cell_type": "code",
   "execution_count": 281,
   "id": "7f1acfaf",
   "metadata": {},
   "outputs": [
    {
     "data": {
      "text/plain": [
       "(10840, 13)"
      ]
     },
     "execution_count": 281,
     "metadata": {},
     "output_type": "execute_result"
    }
   ],
   "source": [
    "# Sucessfully, my data has no \"null values\" now and one row was deleted already '10472' with an Outlier of '19' Rating\n",
    "f1.shape"
   ]
  },
  {
   "cell_type": "markdown",
   "id": "71da053e",
   "metadata": {},
   "source": [
    "Check the unique categories of the column 'Category', Is there any invalid category? If yes, drop them."
   ]
  },
  {
   "cell_type": "code",
   "execution_count": 282,
   "id": "c7961787",
   "metadata": {},
   "outputs": [
    {
     "name": "stdout",
     "output_type": "stream",
     "text": [
      "33\n",
      "FAMILY                 1972\n",
      "GAME                   1144\n",
      "TOOLS                   843\n",
      "MEDICAL                 463\n",
      "BUSINESS                460\n",
      "PRODUCTIVITY            424\n",
      "PERSONALIZATION         392\n",
      "COMMUNICATION           387\n",
      "SPORTS                  384\n",
      "LIFESTYLE               382\n",
      "FINANCE                 366\n",
      "HEALTH_AND_FITNESS      341\n",
      "PHOTOGRAPHY             335\n",
      "SOCIAL                  295\n",
      "NEWS_AND_MAGAZINES      283\n",
      "SHOPPING                260\n",
      "TRAVEL_AND_LOCAL        258\n",
      "DATING                  234\n",
      "BOOKS_AND_REFERENCE     231\n",
      "VIDEO_PLAYERS           175\n",
      "EDUCATION               156\n",
      "ENTERTAINMENT           149\n",
      "MAPS_AND_NAVIGATION     137\n",
      "FOOD_AND_DRINK          127\n",
      "HOUSE_AND_HOME           88\n",
      "AUTO_AND_VEHICLES        85\n",
      "LIBRARIES_AND_DEMO       85\n",
      "WEATHER                  82\n",
      "ART_AND_DESIGN           65\n",
      "EVENTS                   64\n",
      "PARENTING                60\n",
      "COMICS                   60\n",
      "BEAUTY                   53\n",
      "Name: Category, dtype: int64\n"
     ]
    }
   ],
   "source": [
    "print(f1['Category'].nunique())\n",
    "print(f1['Category'].value_counts())"
   ]
  },
  {
   "cell_type": "markdown",
   "id": "2248ef32",
   "metadata": {},
   "source": [
    "All '33' categories are unique here"
   ]
  },
  {
   "cell_type": "markdown",
   "id": "4459f733",
   "metadata": {},
   "source": [
    "<!-- Now, there are some columns that need to be deleted as these all have redundancy -->"
   ]
  },
  {
   "cell_type": "markdown",
   "id": "74f8167a",
   "metadata": {},
   "source": [
    "I got a new column as a \"Rating Category\", categorised as \"High\" and \"Low\" for > than 3.5 and < 3.5, respectively"
   ]
  },
  {
   "cell_type": "code",
   "execution_count": 283,
   "id": "b3b14df7",
   "metadata": {
    "scrolled": true
   },
   "outputs": [
    {
     "data": {
      "text/html": [
       "<div>\n",
       "<style scoped>\n",
       "    .dataframe tbody tr th:only-of-type {\n",
       "        vertical-align: middle;\n",
       "    }\n",
       "\n",
       "    .dataframe tbody tr th {\n",
       "        vertical-align: top;\n",
       "    }\n",
       "\n",
       "    .dataframe thead th {\n",
       "        text-align: right;\n",
       "    }\n",
       "</style>\n",
       "<table border=\"1\" class=\"dataframe\">\n",
       "  <thead>\n",
       "    <tr style=\"text-align: right;\">\n",
       "      <th></th>\n",
       "      <th>App</th>\n",
       "      <th>Category</th>\n",
       "      <th>Rating</th>\n",
       "      <th>Reviews</th>\n",
       "      <th>Size</th>\n",
       "      <th>Installs</th>\n",
       "      <th>Type</th>\n",
       "      <th>Price</th>\n",
       "      <th>Content Rating</th>\n",
       "      <th>Genres</th>\n",
       "      <th>Last Updated</th>\n",
       "      <th>Current Ver</th>\n",
       "      <th>Android Ver</th>\n",
       "    </tr>\n",
       "  </thead>\n",
       "  <tbody>\n",
       "    <tr>\n",
       "      <th>0</th>\n",
       "      <td>Photo Editor &amp; Candy Camera &amp; Grid &amp; ScrapBook</td>\n",
       "      <td>ART_AND_DESIGN</td>\n",
       "      <td>4.1</td>\n",
       "      <td>5.068904</td>\n",
       "      <td>19M</td>\n",
       "      <td>10,000+</td>\n",
       "      <td>Free</td>\n",
       "      <td>0.0</td>\n",
       "      <td>Everyone</td>\n",
       "      <td>Art &amp; Design</td>\n",
       "      <td>January 7, 2018</td>\n",
       "      <td>1.0.0</td>\n",
       "      <td>4.0.3 and up</td>\n",
       "    </tr>\n",
       "    <tr>\n",
       "      <th>1</th>\n",
       "      <td>Coloring book moana</td>\n",
       "      <td>ART_AND_DESIGN</td>\n",
       "      <td>3.9</td>\n",
       "      <td>6.874198</td>\n",
       "      <td>14M</td>\n",
       "      <td>500,000+</td>\n",
       "      <td>Free</td>\n",
       "      <td>0.0</td>\n",
       "      <td>Everyone</td>\n",
       "      <td>Art &amp; Design;Pretend Play</td>\n",
       "      <td>January 15, 2018</td>\n",
       "      <td>2.0.0</td>\n",
       "      <td>4.0.3 and up</td>\n",
       "    </tr>\n",
       "  </tbody>\n",
       "</table>\n",
       "</div>"
      ],
      "text/plain": [
       "                                              App        Category  Rating  \\\n",
       "0  Photo Editor & Candy Camera & Grid & ScrapBook  ART_AND_DESIGN     4.1   \n",
       "1                             Coloring book moana  ART_AND_DESIGN     3.9   \n",
       "\n",
       "    Reviews Size  Installs  Type  Price Content Rating  \\\n",
       "0  5.068904  19M   10,000+  Free    0.0       Everyone   \n",
       "1  6.874198  14M  500,000+  Free    0.0       Everyone   \n",
       "\n",
       "                      Genres      Last Updated Current Ver   Android Ver  \n",
       "0               Art & Design   January 7, 2018       1.0.0  4.0.3 and up  \n",
       "1  Art & Design;Pretend Play  January 15, 2018       2.0.0  4.0.3 and up  "
      ]
     },
     "execution_count": 283,
     "metadata": {},
     "output_type": "execute_result"
    }
   ],
   "source": [
    "# Splitting the string and retriveing the numeric value.\n",
    "f1['Price'] = f1['Price'].apply(lambda x: str(x).replace('$','') if '$' in str(x) else str(x))               \n",
    "f1['Price'] = f1['Price'].apply(lambda x: str(x).replace(',','') if ',' in str(x) else str(x))\n",
    "\n",
    "f1['Price'] = f1['Price'].apply(lambda x: float(x))\n",
    "\n",
    "f1.head(2)\n",
    "## Replacing comma,'$', and ',' and converting feature 'Price' as a float."
   ]
  },
  {
   "cell_type": "code",
   "execution_count": 284,
   "id": "2601d890",
   "metadata": {},
   "outputs": [
    {
     "data": {
      "text/html": [
       "<div>\n",
       "<style scoped>\n",
       "    .dataframe tbody tr th:only-of-type {\n",
       "        vertical-align: middle;\n",
       "    }\n",
       "\n",
       "    .dataframe tbody tr th {\n",
       "        vertical-align: top;\n",
       "    }\n",
       "\n",
       "    .dataframe thead th {\n",
       "        text-align: right;\n",
       "    }\n",
       "</style>\n",
       "<table border=\"1\" class=\"dataframe\">\n",
       "  <thead>\n",
       "    <tr style=\"text-align: right;\">\n",
       "      <th></th>\n",
       "      <th>App</th>\n",
       "      <th>Category</th>\n",
       "      <th>Rating</th>\n",
       "      <th>Reviews</th>\n",
       "      <th>Size</th>\n",
       "      <th>Installs</th>\n",
       "      <th>Type</th>\n",
       "      <th>Price</th>\n",
       "      <th>Content Rating</th>\n",
       "      <th>Genres</th>\n",
       "      <th>Last Updated</th>\n",
       "      <th>Current Ver</th>\n",
       "      <th>Android Ver</th>\n",
       "      <th>Rating_Category</th>\n",
       "    </tr>\n",
       "  </thead>\n",
       "  <tbody>\n",
       "    <tr>\n",
       "      <th>13</th>\n",
       "      <td>Mandala Coloring Book</td>\n",
       "      <td>ART_AND_DESIGN</td>\n",
       "      <td>4.6</td>\n",
       "      <td>8.372399</td>\n",
       "      <td>21M</td>\n",
       "      <td>100,000+</td>\n",
       "      <td>Free</td>\n",
       "      <td>0.0</td>\n",
       "      <td>Everyone</td>\n",
       "      <td>Art &amp; Design</td>\n",
       "      <td>June 26, 2018</td>\n",
       "      <td>1.0.4</td>\n",
       "      <td>4.4 and up</td>\n",
       "      <td>High</td>\n",
       "    </tr>\n",
       "    <tr>\n",
       "      <th>14</th>\n",
       "      <td>3D Color Pixel by Number - Sandbox Art Coloring</td>\n",
       "      <td>ART_AND_DESIGN</td>\n",
       "      <td>4.4</td>\n",
       "      <td>7.325149</td>\n",
       "      <td>37M</td>\n",
       "      <td>100,000+</td>\n",
       "      <td>Free</td>\n",
       "      <td>0.0</td>\n",
       "      <td>Everyone</td>\n",
       "      <td>Art &amp; Design</td>\n",
       "      <td>August 3, 2018</td>\n",
       "      <td>1.2.3</td>\n",
       "      <td>2.3 and up</td>\n",
       "      <td>High</td>\n",
       "    </tr>\n",
       "    <tr>\n",
       "      <th>15</th>\n",
       "      <td>Learn To Draw Kawaii Characters</td>\n",
       "      <td>ART_AND_DESIGN</td>\n",
       "      <td>3.2</td>\n",
       "      <td>4.007333</td>\n",
       "      <td>2.7M</td>\n",
       "      <td>5,000+</td>\n",
       "      <td>Free</td>\n",
       "      <td>0.0</td>\n",
       "      <td>Everyone</td>\n",
       "      <td>Art &amp; Design</td>\n",
       "      <td>June 6, 2018</td>\n",
       "      <td>Varies with device</td>\n",
       "      <td>4.2 and up</td>\n",
       "      <td>Low</td>\n",
       "    </tr>\n",
       "  </tbody>\n",
       "</table>\n",
       "</div>"
      ],
      "text/plain": [
       "                                                App        Category  Rating  \\\n",
       "13                            Mandala Coloring Book  ART_AND_DESIGN     4.6   \n",
       "14  3D Color Pixel by Number - Sandbox Art Coloring  ART_AND_DESIGN     4.4   \n",
       "15                  Learn To Draw Kawaii Characters  ART_AND_DESIGN     3.2   \n",
       "\n",
       "     Reviews  Size  Installs  Type  Price Content Rating        Genres  \\\n",
       "13  8.372399   21M  100,000+  Free    0.0       Everyone  Art & Design   \n",
       "14  7.325149   37M  100,000+  Free    0.0       Everyone  Art & Design   \n",
       "15  4.007333  2.7M    5,000+  Free    0.0       Everyone  Art & Design   \n",
       "\n",
       "      Last Updated         Current Ver Android Ver Rating_Category  \n",
       "13   June 26, 2018               1.0.4  4.4 and up            High  \n",
       "14  August 3, 2018               1.2.3  2.3 and up            High  \n",
       "15    June 6, 2018  Varies with device  4.2 and up             Low  "
      ]
     },
     "execution_count": 284,
     "metadata": {},
     "output_type": "execute_result"
    }
   ],
   "source": [
    "# Now, let us create a new column compiring Rating Category as >3.5 and lower ones with an 'if' condition\n",
    "data = {'>3.5': 'Low', '<3.5':'High'}\n",
    "f1['Rating_Category'] = np.where(f1['Rating'] > 3.5,'High','Low')\n",
    "f1.iloc[13:16,:]\n",
    "\n",
    "# Usng np.where, I got a new column showing High and Low ratings for > and < 3.5, respectively"
   ]
  },
  {
   "cell_type": "code",
   "execution_count": 285,
   "id": "f114111f",
   "metadata": {},
   "outputs": [
    {
     "data": {
      "text/html": [
       "<div>\n",
       "<style scoped>\n",
       "    .dataframe tbody tr th:only-of-type {\n",
       "        vertical-align: middle;\n",
       "    }\n",
       "\n",
       "    .dataframe tbody tr th {\n",
       "        vertical-align: top;\n",
       "    }\n",
       "\n",
       "    .dataframe thead th {\n",
       "        text-align: right;\n",
       "    }\n",
       "</style>\n",
       "<table border=\"1\" class=\"dataframe\">\n",
       "  <thead>\n",
       "    <tr style=\"text-align: right;\">\n",
       "      <th></th>\n",
       "      <th>App</th>\n",
       "      <th>Category</th>\n",
       "      <th>Rating</th>\n",
       "      <th>Reviews</th>\n",
       "      <th>Size</th>\n",
       "      <th>Installs</th>\n",
       "      <th>Type</th>\n",
       "      <th>Price</th>\n",
       "      <th>Content Rating</th>\n",
       "      <th>Genres</th>\n",
       "      <th>Last Updated</th>\n",
       "      <th>Current Ver</th>\n",
       "      <th>Android Ver</th>\n",
       "      <th>Rating_Category</th>\n",
       "    </tr>\n",
       "  </thead>\n",
       "  <tbody>\n",
       "    <tr>\n",
       "      <th>13</th>\n",
       "      <td>Mandala Coloring Book</td>\n",
       "      <td>ART_AND_DESIGN</td>\n",
       "      <td>4.6</td>\n",
       "      <td>8.372399</td>\n",
       "      <td>21000000</td>\n",
       "      <td>100,000+</td>\n",
       "      <td>Free</td>\n",
       "      <td>0.0</td>\n",
       "      <td>Everyone</td>\n",
       "      <td>Art &amp; Design</td>\n",
       "      <td>June 26, 2018</td>\n",
       "      <td>1.0.4</td>\n",
       "      <td>4.4 and up</td>\n",
       "      <td>High</td>\n",
       "    </tr>\n",
       "    <tr>\n",
       "      <th>14</th>\n",
       "      <td>3D Color Pixel by Number - Sandbox Art Coloring</td>\n",
       "      <td>ART_AND_DESIGN</td>\n",
       "      <td>4.4</td>\n",
       "      <td>7.325149</td>\n",
       "      <td>37000000</td>\n",
       "      <td>100,000+</td>\n",
       "      <td>Free</td>\n",
       "      <td>0.0</td>\n",
       "      <td>Everyone</td>\n",
       "      <td>Art &amp; Design</td>\n",
       "      <td>August 3, 2018</td>\n",
       "      <td>1.2.3</td>\n",
       "      <td>2.3 and up</td>\n",
       "      <td>High</td>\n",
       "    </tr>\n",
       "    <tr>\n",
       "      <th>15</th>\n",
       "      <td>Learn To Draw Kawaii Characters</td>\n",
       "      <td>ART_AND_DESIGN</td>\n",
       "      <td>3.2</td>\n",
       "      <td>4.007333</td>\n",
       "      <td>2700000</td>\n",
       "      <td>5,000+</td>\n",
       "      <td>Free</td>\n",
       "      <td>0.0</td>\n",
       "      <td>Everyone</td>\n",
       "      <td>Art &amp; Design</td>\n",
       "      <td>June 6, 2018</td>\n",
       "      <td>Varies with device</td>\n",
       "      <td>4.2 and up</td>\n",
       "      <td>Low</td>\n",
       "    </tr>\n",
       "  </tbody>\n",
       "</table>\n",
       "</div>"
      ],
      "text/plain": [
       "                                                App        Category  Rating  \\\n",
       "13                            Mandala Coloring Book  ART_AND_DESIGN     4.6   \n",
       "14  3D Color Pixel by Number - Sandbox Art Coloring  ART_AND_DESIGN     4.4   \n",
       "15                  Learn To Draw Kawaii Characters  ART_AND_DESIGN     3.2   \n",
       "\n",
       "     Reviews      Size  Installs  Type  Price Content Rating        Genres  \\\n",
       "13  8.372399  21000000  100,000+  Free    0.0       Everyone  Art & Design   \n",
       "14  7.325149  37000000  100,000+  Free    0.0       Everyone  Art & Design   \n",
       "15  4.007333   2700000    5,000+  Free    0.0       Everyone  Art & Design   \n",
       "\n",
       "      Last Updated         Current Ver Android Ver Rating_Category  \n",
       "13   June 26, 2018               1.0.4  4.4 and up            High  \n",
       "14  August 3, 2018               1.2.3  2.3 and up            High  \n",
       "15    June 6, 2018  Varies with device  4.2 and up             Low  "
      ]
     },
     "execution_count": 285,
     "metadata": {},
     "output_type": "execute_result"
    }
   ],
   "source": [
    "f1.drop(f1[f1['Size'] == 'Varies with device'].index,inplace = True)\n",
    "\n",
    "f1['Size'] = f1['Size'].replace({'k': '*1e3', 'M': '*1e6', 'm':'1e6'}, regex=True)\n",
    "\n",
    "f1['Size'] = f1['Size'].map(pd.eval).astype(int)\n",
    "f1.iloc[13:16]\n"
   ]
  },
  {
   "cell_type": "code",
   "execution_count": 286,
   "id": "71b47ad6",
   "metadata": {
    "scrolled": true
   },
   "outputs": [
    {
     "data": {
      "text/html": [
       "<div>\n",
       "<style scoped>\n",
       "    .dataframe tbody tr th:only-of-type {\n",
       "        vertical-align: middle;\n",
       "    }\n",
       "\n",
       "    .dataframe tbody tr th {\n",
       "        vertical-align: top;\n",
       "    }\n",
       "\n",
       "    .dataframe thead th {\n",
       "        text-align: right;\n",
       "    }\n",
       "</style>\n",
       "<table border=\"1\" class=\"dataframe\">\n",
       "  <thead>\n",
       "    <tr style=\"text-align: right;\">\n",
       "      <th></th>\n",
       "      <th>App</th>\n",
       "      <th>Category</th>\n",
       "      <th>Rating</th>\n",
       "      <th>Reviews</th>\n",
       "      <th>Size</th>\n",
       "      <th>Installs</th>\n",
       "      <th>Type</th>\n",
       "      <th>Price</th>\n",
       "      <th>Content Rating</th>\n",
       "      <th>Genres</th>\n",
       "      <th>Last Updated</th>\n",
       "      <th>Current Ver</th>\n",
       "      <th>Android Ver</th>\n",
       "      <th>Rating_Category</th>\n",
       "    </tr>\n",
       "  </thead>\n",
       "  <tbody>\n",
       "    <tr>\n",
       "      <th>0</th>\n",
       "      <td>Photo Editor &amp; Candy Camera &amp; Grid &amp; ScrapBook</td>\n",
       "      <td>ART_AND_DESIGN</td>\n",
       "      <td>4.1</td>\n",
       "      <td>5.068904</td>\n",
       "      <td>19000000</td>\n",
       "      <td>10000.0</td>\n",
       "      <td>Free</td>\n",
       "      <td>0.0</td>\n",
       "      <td>Everyone</td>\n",
       "      <td>Art &amp; Design</td>\n",
       "      <td>January 7, 2018</td>\n",
       "      <td>1.0.0</td>\n",
       "      <td>4.0.3 and up</td>\n",
       "      <td>High</td>\n",
       "    </tr>\n",
       "    <tr>\n",
       "      <th>1</th>\n",
       "      <td>Coloring book moana</td>\n",
       "      <td>ART_AND_DESIGN</td>\n",
       "      <td>3.9</td>\n",
       "      <td>6.874198</td>\n",
       "      <td>14000000</td>\n",
       "      <td>500000.0</td>\n",
       "      <td>Free</td>\n",
       "      <td>0.0</td>\n",
       "      <td>Everyone</td>\n",
       "      <td>Art &amp; Design;Pretend Play</td>\n",
       "      <td>January 15, 2018</td>\n",
       "      <td>2.0.0</td>\n",
       "      <td>4.0.3 and up</td>\n",
       "      <td>High</td>\n",
       "    </tr>\n",
       "  </tbody>\n",
       "</table>\n",
       "</div>"
      ],
      "text/plain": [
       "                                              App        Category  Rating  \\\n",
       "0  Photo Editor & Candy Camera & Grid & ScrapBook  ART_AND_DESIGN     4.1   \n",
       "1                             Coloring book moana  ART_AND_DESIGN     3.9   \n",
       "\n",
       "    Reviews      Size  Installs  Type  Price Content Rating  \\\n",
       "0  5.068904  19000000   10000.0  Free    0.0       Everyone   \n",
       "1  6.874198  14000000  500000.0  Free    0.0       Everyone   \n",
       "\n",
       "                      Genres      Last Updated Current Ver   Android Ver  \\\n",
       "0               Art & Design   January 7, 2018       1.0.0  4.0.3 and up   \n",
       "1  Art & Design;Pretend Play  January 15, 2018       2.0.0  4.0.3 and up   \n",
       "\n",
       "  Rating_Category  \n",
       "0            High  \n",
       "1            High  "
      ]
     },
     "execution_count": 286,
     "metadata": {},
     "output_type": "execute_result"
    }
   ],
   "source": [
    "## Splitting the string and retriveing the numeric value.\n",
    "f1['Installs'] = f1['Installs'].apply(lambda x: str(x).replace('+','') if '+' in str(x) else str(x))               \n",
    "f1['Installs'] = f1['Installs'].apply(lambda x: str(x).replace(',','') if ',' in str(x) else str(x))\n",
    "f1['Installs'] = f1['Installs'].replace('Free',1000000)\n",
    "\n",
    "f1['Installs'] = f1['Installs'].apply(lambda x: float(x))\n",
    "\n",
    "f1.head(2)\n",
    "## Replacing comma,'Free', and '+' and converting feature 'Installs' as a float."
   ]
  },
  {
   "cell_type": "code",
   "execution_count": 287,
   "id": "504a5491",
   "metadata": {},
   "outputs": [
    {
     "data": {
      "text/plain": [
       "0         5.068904\n",
       "1         6.874198\n",
       "2        11.379508\n",
       "3        12.281384\n",
       "4         6.874198\n",
       "           ...    \n",
       "10835         -inf\n",
       "10836     3.637586\n",
       "10837     1.386294\n",
       "10838     1.098612\n",
       "10840    12.894978\n",
       "Name: Reviews, Length: 9145, dtype: float64"
      ]
     },
     "execution_count": 287,
     "metadata": {},
     "output_type": "execute_result"
    }
   ],
   "source": [
    "f1['Reviews']\n",
    "# Here, Reviews has -infinity and NaN Review under some categories that we need to work on"
   ]
  },
  {
   "cell_type": "code",
   "execution_count": 288,
   "id": "55bcebd4",
   "metadata": {},
   "outputs": [
    {
     "data": {
      "text/plain": [
       "6.60934924316738"
      ]
     },
     "execution_count": 288,
     "metadata": {},
     "output_type": "execute_result"
    }
   ],
   "source": [
    "f1['Reviews'].median()"
   ]
  },
  {
   "cell_type": "code",
   "execution_count": 289,
   "id": "a365a60b",
   "metadata": {},
   "outputs": [
    {
     "data": {
      "text/html": [
       "<div>\n",
       "<style scoped>\n",
       "    .dataframe tbody tr th:only-of-type {\n",
       "        vertical-align: middle;\n",
       "    }\n",
       "\n",
       "    .dataframe tbody tr th {\n",
       "        vertical-align: top;\n",
       "    }\n",
       "\n",
       "    .dataframe thead th {\n",
       "        text-align: right;\n",
       "    }\n",
       "</style>\n",
       "<table border=\"1\" class=\"dataframe\">\n",
       "  <thead>\n",
       "    <tr style=\"text-align: right;\">\n",
       "      <th></th>\n",
       "      <th>Rating</th>\n",
       "      <th>Reviews</th>\n",
       "      <th>Size</th>\n",
       "      <th>Installs</th>\n",
       "      <th>Price</th>\n",
       "    </tr>\n",
       "  </thead>\n",
       "  <tbody>\n",
       "    <tr>\n",
       "      <th>count</th>\n",
       "      <td>9145.000000</td>\n",
       "      <td>9145.000000</td>\n",
       "      <td>9.145000e+03</td>\n",
       "      <td>9.145000e+03</td>\n",
       "      <td>9145.000000</td>\n",
       "    </tr>\n",
       "    <tr>\n",
       "      <th>mean</th>\n",
       "      <td>4.193384</td>\n",
       "      <td>7.049306</td>\n",
       "      <td>2.151653e+07</td>\n",
       "      <td>7.114842e+06</td>\n",
       "      <td>1.184366</td>\n",
       "    </tr>\n",
       "    <tr>\n",
       "      <th>std</th>\n",
       "      <td>0.502702</td>\n",
       "      <td>3.894252</td>\n",
       "      <td>2.258875e+07</td>\n",
       "      <td>4.619357e+07</td>\n",
       "      <td>17.355754</td>\n",
       "    </tr>\n",
       "    <tr>\n",
       "      <th>min</th>\n",
       "      <td>1.000000</td>\n",
       "      <td>0.000000</td>\n",
       "      <td>8.500000e+03</td>\n",
       "      <td>0.000000e+00</td>\n",
       "      <td>0.000000</td>\n",
       "    </tr>\n",
       "    <tr>\n",
       "      <th>25%</th>\n",
       "      <td>4.100000</td>\n",
       "      <td>3.951244</td>\n",
       "      <td>4.900000e+06</td>\n",
       "      <td>1.000000e+03</td>\n",
       "      <td>0.000000</td>\n",
       "    </tr>\n",
       "    <tr>\n",
       "      <th>50%</th>\n",
       "      <td>4.300000</td>\n",
       "      <td>6.609349</td>\n",
       "      <td>1.300000e+07</td>\n",
       "      <td>1.000000e+05</td>\n",
       "      <td>0.000000</td>\n",
       "    </tr>\n",
       "    <tr>\n",
       "      <th>75%</th>\n",
       "      <td>4.500000</td>\n",
       "      <td>10.128110</td>\n",
       "      <td>3.000000e+07</td>\n",
       "      <td>1.000000e+06</td>\n",
       "      <td>0.000000</td>\n",
       "    </tr>\n",
       "    <tr>\n",
       "      <th>max</th>\n",
       "      <td>5.000000</td>\n",
       "      <td>17.619812</td>\n",
       "      <td>1.000000e+08</td>\n",
       "      <td>1.000000e+09</td>\n",
       "      <td>400.000000</td>\n",
       "    </tr>\n",
       "  </tbody>\n",
       "</table>\n",
       "</div>"
      ],
      "text/plain": [
       "            Rating      Reviews          Size      Installs        Price\n",
       "count  9145.000000  9145.000000  9.145000e+03  9.145000e+03  9145.000000\n",
       "mean      4.193384     7.049306  2.151653e+07  7.114842e+06     1.184366\n",
       "std       0.502702     3.894252  2.258875e+07  4.619357e+07    17.355754\n",
       "min       1.000000     0.000000  8.500000e+03  0.000000e+00     0.000000\n",
       "25%       4.100000     3.951244  4.900000e+06  1.000000e+03     0.000000\n",
       "50%       4.300000     6.609349  1.300000e+07  1.000000e+05     0.000000\n",
       "75%       4.500000    10.128110  3.000000e+07  1.000000e+06     0.000000\n",
       "max       5.000000    17.619812  1.000000e+08  1.000000e+09   400.000000"
      ]
     },
     "execution_count": 289,
     "metadata": {},
     "output_type": "execute_result"
    }
   ],
   "source": [
    "k = f1['Reviews'].median()\n",
    "f1.replace([np.nan,-np.inf],k,inplace = True)\n",
    "f1.describe()\n",
    "# filedf['Reviews'].fillna(filedf['Reviews'].median())"
   ]
  },
  {
   "cell_type": "markdown",
   "id": "9a759f7e",
   "metadata": {},
   "source": [
    "###### Hence, we have got a clean data with no null, or irrelevant data as NaN or -inf. Hence, our data is now ready for visualization"
   ]
  },
  {
   "cell_type": "markdown",
   "id": "475d7bd3",
   "metadata": {},
   "source": [
    "## Data Visualization"
   ]
  },
  {
   "cell_type": "markdown",
   "id": "6a812951",
   "metadata": {},
   "source": [
    "Now, let us group each category type as per Rating, Reviews, and their price"
   ]
  },
  {
   "cell_type": "code",
   "execution_count": 290,
   "id": "a3fb1277",
   "metadata": {},
   "outputs": [
    {
     "name": "stdout",
     "output_type": "stream",
     "text": [
      "Category\n",
      "ART_AND_DESIGN         4.358065\n",
      "AUTO_AND_VEHICLES      4.172000\n",
      "BEAUTY                 4.293617\n",
      "BOOKS_AND_REFERENCE    4.314721\n",
      "BUSINESS               4.189250\n",
      "COMICS                 4.137255\n",
      "COMMUNICATION          4.143019\n",
      "DATING                 4.020755\n",
      "EDUCATION              4.386486\n",
      "ENTERTAINMENT          4.146667\n",
      "EVENTS                 4.419298\n",
      "FAMILY                 4.203111\n",
      "FINANCE                4.137134\n",
      "FOOD_AND_DRINK         4.130000\n",
      "GAME                   4.270739\n",
      "HEALTH_AND_FITNESS     4.235606\n",
      "HOUSE_AND_HOME         4.186765\n",
      "LIBRARIES_AND_DEMO     4.226829\n",
      "LIFESTYLE              4.132464\n",
      "MAPS_AND_NAVIGATION    4.048148\n",
      "MEDICAL                4.213594\n",
      "NEWS_AND_MAGAZINES     4.177778\n",
      "PARENTING              4.338889\n",
      "PERSONALIZATION        4.319155\n",
      "PHOTOGRAPHY            4.157874\n",
      "PRODUCTIVITY           4.178878\n",
      "SHOPPING               4.235821\n",
      "SOCIAL                 4.263810\n",
      "SPORTS                 4.224437\n",
      "TOOLS                  4.052097\n",
      "TRAVEL_AND_LOCAL       4.085938\n",
      "VIDEO_PLAYERS          4.057252\n",
      "WEATHER                4.247368\n",
      "Name: Rating, dtype: float64\n",
      "Category\n",
      "ART_AND_DESIGN            5.97\n",
      "AUTO_AND_VEHICLES        11.48\n",
      "BEAUTY                    0.00\n",
      "BOOKS_AND_REFERENCE     116.78\n",
      "BUSINESS                172.28\n",
      "COMICS                    0.00\n",
      "COMMUNICATION            68.18\n",
      "DATING                   23.45\n",
      "EDUCATION                17.96\n",
      "ENTERTAINMENT             2.99\n",
      "EVENTS                  109.99\n",
      "FAMILY                 2380.91\n",
      "FINANCE                2900.83\n",
      "FOOD_AND_DRINK            4.99\n",
      "GAME                    279.34\n",
      "HEALTH_AND_FITNESS       56.38\n",
      "HOUSE_AND_HOME            0.00\n",
      "LIBRARIES_AND_DEMO        0.99\n",
      "LIFESTYLE              2353.39\n",
      "MAPS_AND_NAVIGATION      14.96\n",
      "MEDICAL                1391.07\n",
      "NEWS_AND_MAGAZINES        3.98\n",
      "PARENTING                 4.99\n",
      "PERSONALIZATION         144.00\n",
      "PHOTOGRAPHY             124.32\n",
      "PRODUCTIVITY            232.97\n",
      "SHOPPING                  5.48\n",
      "SOCIAL                   15.97\n",
      "SPORTS                   87.02\n",
      "TOOLS                   236.96\n",
      "TRAVEL_AND_LOCAL         38.97\n",
      "VIDEO_PLAYERS             0.99\n",
      "WEATHER                  23.44\n",
      "Name: Price, dtype: float64\n",
      "Category\n",
      "ART_AND_DESIGN          6.554020\n",
      "AUTO_AND_VEHICLES       5.737291\n",
      "BEAUTY                  5.411181\n",
      "BOOKS_AND_REFERENCE     5.784361\n",
      "BUSINESS                4.991673\n",
      "COMICS                  6.905250\n",
      "COMMUNICATION           7.267729\n",
      "DATING                  6.412870\n",
      "EDUCATION               9.489364\n",
      "ENTERTAINMENT          10.611527\n",
      "EVENTS                  4.786986\n",
      "FAMILY                  6.835468\n",
      "FINANCE                 6.179550\n",
      "FOOD_AND_DRINK          7.611915\n",
      "GAME                   10.091670\n",
      "HEALTH_AND_FITNESS      7.332048\n",
      "HOUSE_AND_HOME          7.556080\n",
      "LIBRARIES_AND_DEMO      5.671425\n",
      "LIFESTYLE               5.826983\n",
      "MAPS_AND_NAVIGATION     6.635238\n",
      "MEDICAL                 4.664855\n",
      "NEWS_AND_MAGAZINES      6.435041\n",
      "PARENTING               6.185756\n",
      "PERSONALIZATION         6.205696\n",
      "PHOTOGRAPHY             8.674205\n",
      "PRODUCTIVITY            6.695782\n",
      "SHOPPING                8.386610\n",
      "SOCIAL                  7.490756\n",
      "SPORTS                  7.385171\n",
      "TOOLS                   6.397380\n",
      "TRAVEL_AND_LOCAL        6.877741\n",
      "VIDEO_PLAYERS           7.546542\n",
      "WEATHER                 8.395085\n",
      "Name: Reviews, dtype: float64\n"
     ]
    }
   ],
   "source": [
    "grp = f1.groupby('Category')\n",
    "x = grp['Rating'].agg(np.mean)\n",
    "y = grp['Price'].agg(np.sum)\n",
    "z = grp['Reviews'].agg(np.mean)\n",
    "\n",
    "print(x)\n",
    "print(y)\n",
    "print(z)"
   ]
  },
  {
   "cell_type": "raw",
   "id": "19ae6019",
   "metadata": {},
   "source": [
    "# print(x)\n",
    "\n",
    "print(x) shows me say the category \"Events\" apps have got an average of '4.419298' Rating\n",
    "\n",
    "# print(y)\n",
    "print(y) shows me all the apps under \"Events\" category has a total price of '109.99'\n",
    "\n",
    "# print(z)\n",
    "print(z) However, the average 'Reviews', this category made was less, which was '4.786986' as compared to \"Entertainment\", which got the \"Highest\" reviews around '10.611527'"
   ]
  },
  {
   "cell_type": "markdown",
   "id": "ee4238f9",
   "metadata": {},
   "source": [
    "Now, these categories are grouped as per Ratings, Reviews, and their individual prices"
   ]
  },
  {
   "cell_type": "markdown",
   "id": "a8b748e4",
   "metadata": {},
   "source": [
    "In the above data description, Education category app has got the highest rating of 4.38 and the price for this category apps  on total is 17.96.\n",
    "\n",
    "The second highest rating is given to Art_and_Design with a rating \"4.35\" with price of 5.97\n",
    "\n",
    "Following this, the third highest rating is given to Books_and_Reference and the sum of the price is 116.78"
   ]
  },
  {
   "cell_type": "code",
   "execution_count": 291,
   "id": "de0407a8",
   "metadata": {},
   "outputs": [
    {
     "data": {
      "image/png": "[encoded data removed]",
      "text/plain": [
       "<Figure size 864x288 with 1 Axes>"
      ]
     },
     "metadata": {
      "needs_background": "light"
     },
     "output_type": "display_data"
    }
   ],
   "source": [
    "plt.figure(figsize = (12,4))\n",
    "plt.plot(x,\"r-\",color = 'r')\n",
    "plt.xticks(rotation = 90)\n",
    "plt.title(\"Category-wise-Rating\")\n",
    "plt.xlabel('Category')\n",
    "plt.ylabel('Rating')\n",
    "plt.show()"
   ]
  },
  {
   "cell_type": "raw",
   "id": "25eebacc",
   "metadata": {},
   "source": [
    "Inferences: \n",
    "1. The \"Events\" category apps got the rating between 4.40 to 5 (above we got was 4.419) - Sum of price of all apps under Events category - 109.99\n",
    "2. The second highest is \"Education\" with rating between 4.35 to 4.40 (we got it as 4.38) - Sum of price of all apps under Education category- 17.96\n",
    "3. The third highest is \"Art_and_Design\", and the rating is little higher than 4.35 (we got it as 4.358) - Sum of price of all apps under Art_and_Design category - 5.97"
   ]
  },
  {
   "cell_type": "code",
   "execution_count": 292,
   "id": "e3c77c71",
   "metadata": {
    "scrolled": true
   },
   "outputs": [
    {
     "data": {
      "image/png": "[encoded data removed]",
      "text/plain": [
       "<Figure size 864x288 with 1 Axes>"
      ]
     },
     "metadata": {
      "needs_background": "light"
     },
     "output_type": "display_data"
    }
   ],
   "source": [
    "plt.figure(figsize = (12,4))\n",
    "plt.plot(y,\"r-\",color = 'g')\n",
    "plt.xticks(rotation = 90)\n",
    "plt.title(\"Category-wise-Pricing\")\n",
    "plt.xlabel('Category')\n",
    "plt.ylabel('Price')\n",
    "plt.show()"
   ]
  },
  {
   "cell_type": "raw",
   "id": "a6d69ea8",
   "metadata": {},
   "source": [
    "Inferences:\n",
    "1.'Finance' category app:  The sum of a price of all apps under this category was the highest, i.e., '2900.83'\n",
    "2. 'Family' category app: The sum of a price of all apps under this category was the second highest, i.e.,'2380.91'\n",
    "3. 'Lifestyle' category app: The sum of a price of all apps under this category was the third highest i.e., 2353.39"
   ]
  },
  {
   "cell_type": "code",
   "execution_count": 293,
   "id": "ac8ca905",
   "metadata": {},
   "outputs": [
    {
     "data": {
      "image/png": "[encoded data removed]",
      "text/plain": [
       "<Figure size 288x288 with 1 Axes>"
      ]
     },
     "metadata": {
      "needs_background": "light"
     },
     "output_type": "display_data"
    }
   ],
   "source": [
    "fig, ax = plt.subplots(figsize=(4,4))   # setting the figure size of the plot\n",
    "ax.scatter(f1['Price'], f1['Rating'])  # scatter plot\n",
    "ax.set_xlabel('Price')\n",
    "ax.set_ylabel('Rating_Category')\n",
    "plt.show()"
   ]
  },
  {
   "cell_type": "markdown",
   "id": "217abe74",
   "metadata": {},
   "source": [
    "Inference:\n",
    "The lesser is the price, higher is the rating and the higher the price, lower is the rating"
   ]
  },
  {
   "cell_type": "code",
   "execution_count": 294,
   "id": "74ee16f5",
   "metadata": {},
   "outputs": [
    {
     "data": {
      "text/plain": [
       "<seaborn.axisgrid.FacetGrid at 0x23efe790850>"
      ]
     },
     "execution_count": 294,
     "metadata": {},
     "output_type": "execute_result"
    },
    {
     "data": {
      "image/png": "[encoded data removed]",
      "text/plain": [
       "<Figure size 360x360 with 1 Axes>"
      ]
     },
     "metadata": {
      "needs_background": "light"
     },
     "output_type": "display_data"
    }
   ],
   "source": [
    "sns.displot(f1['Rating_Category'])"
   ]
  },
  {
   "cell_type": "markdown",
   "id": "59945b2a",
   "metadata": {},
   "source": [
    "We can infer that \"High\" rating category have got higher count than the ones with the \"Low\" category. Meaning, if developers reduce the price of the apps, this is possible that if they incorporate new features into apps, the user will continue to give rating higher than \"3.5\""
   ]
  },
  {
   "cell_type": "code",
   "execution_count": 295,
   "id": "62b69f8a",
   "metadata": {},
   "outputs": [
    {
     "data": {
      "image/png": "[encoded data removed]",
      "text/plain": [
       "<Figure size 864x288 with 1 Axes>"
      ]
     },
     "metadata": {
      "needs_background": "light"
     },
     "output_type": "display_data"
    }
   ],
   "source": [
    "plt.figure(figsize = (12,4))\n",
    "plt.plot(z,\"r-\",color = 'b')\n",
    "plt.xticks(rotation = 90)\n",
    "plt.title(\"Category-wise-Reviews\")\n",
    "plt.xlabel('Category')\n",
    "plt.ylabel('Reviews')\n",
    "plt.show()"
   ]
  },
  {
   "cell_type": "markdown",
   "id": "3c0e85a5",
   "metadata": {},
   "source": [
    "Inferences:\n",
    "1. The Entertainment category app got the highest reviews, i.e., 10.6\n",
    "2. The second highest was \"Game\" with average reviews of '10.09'\n",
    "3. The third highest was \"Education\" with average reviews of '9.489'"
   ]
  },
  {
   "cell_type": "markdown",
   "id": "388260f7",
   "metadata": {},
   "source": [
    "### Method 1 for Encoding: Label Encoding + Standardisation"
   ]
  },
  {
   "cell_type": "markdown",
   "id": "d54dbf49",
   "metadata": {},
   "source": [
    "As per the question text, we need to drop the following columns, so intead of affecting my current dataframe, I will make a copy and drop the columns from my copied dataframe\n",
    "App\n",
    "Rating\n",
    "Current Ver\n",
    "Android Ver\n",
    "Last Updated\n",
    "Genres"
   ]
  },
  {
   "cell_type": "code",
   "execution_count": 296,
   "id": "cfe2efb7",
   "metadata": {},
   "outputs": [
    {
     "data": {
      "text/html": [
       "<div>\n",
       "<style scoped>\n",
       "    .dataframe tbody tr th:only-of-type {\n",
       "        vertical-align: middle;\n",
       "    }\n",
       "\n",
       "    .dataframe tbody tr th {\n",
       "        vertical-align: top;\n",
       "    }\n",
       "\n",
       "    .dataframe thead th {\n",
       "        text-align: right;\n",
       "    }\n",
       "</style>\n",
       "<table border=\"1\" class=\"dataframe\">\n",
       "  <thead>\n",
       "    <tr style=\"text-align: right;\">\n",
       "      <th></th>\n",
       "      <th>Category</th>\n",
       "      <th>Reviews</th>\n",
       "      <th>Size</th>\n",
       "      <th>Installs</th>\n",
       "      <th>Type</th>\n",
       "      <th>Price</th>\n",
       "      <th>Content Rating</th>\n",
       "      <th>Rating_Category</th>\n",
       "    </tr>\n",
       "  </thead>\n",
       "  <tbody>\n",
       "    <tr>\n",
       "      <th>0</th>\n",
       "      <td>ART_AND_DESIGN</td>\n",
       "      <td>5.068904</td>\n",
       "      <td>19000000</td>\n",
       "      <td>10000.0</td>\n",
       "      <td>Free</td>\n",
       "      <td>0.0</td>\n",
       "      <td>Everyone</td>\n",
       "      <td>High</td>\n",
       "    </tr>\n",
       "    <tr>\n",
       "      <th>1</th>\n",
       "      <td>ART_AND_DESIGN</td>\n",
       "      <td>6.874198</td>\n",
       "      <td>14000000</td>\n",
       "      <td>500000.0</td>\n",
       "      <td>Free</td>\n",
       "      <td>0.0</td>\n",
       "      <td>Everyone</td>\n",
       "      <td>High</td>\n",
       "    </tr>\n",
       "    <tr>\n",
       "      <th>2</th>\n",
       "      <td>ART_AND_DESIGN</td>\n",
       "      <td>11.379508</td>\n",
       "      <td>8700000</td>\n",
       "      <td>5000000.0</td>\n",
       "      <td>Free</td>\n",
       "      <td>0.0</td>\n",
       "      <td>Everyone</td>\n",
       "      <td>High</td>\n",
       "    </tr>\n",
       "    <tr>\n",
       "      <th>3</th>\n",
       "      <td>ART_AND_DESIGN</td>\n",
       "      <td>12.281384</td>\n",
       "      <td>25000000</td>\n",
       "      <td>50000000.0</td>\n",
       "      <td>Free</td>\n",
       "      <td>0.0</td>\n",
       "      <td>Teen</td>\n",
       "      <td>High</td>\n",
       "    </tr>\n",
       "    <tr>\n",
       "      <th>4</th>\n",
       "      <td>ART_AND_DESIGN</td>\n",
       "      <td>6.874198</td>\n",
       "      <td>2800000</td>\n",
       "      <td>100000.0</td>\n",
       "      <td>Free</td>\n",
       "      <td>0.0</td>\n",
       "      <td>Everyone</td>\n",
       "      <td>High</td>\n",
       "    </tr>\n",
       "    <tr>\n",
       "      <th>...</th>\n",
       "      <td>...</td>\n",
       "      <td>...</td>\n",
       "      <td>...</td>\n",
       "      <td>...</td>\n",
       "      <td>...</td>\n",
       "      <td>...</td>\n",
       "      <td>...</td>\n",
       "      <td>...</td>\n",
       "    </tr>\n",
       "    <tr>\n",
       "      <th>10835</th>\n",
       "      <td>BUSINESS</td>\n",
       "      <td>6.609349</td>\n",
       "      <td>9600000</td>\n",
       "      <td>10.0</td>\n",
       "      <td>Free</td>\n",
       "      <td>0.0</td>\n",
       "      <td>Everyone</td>\n",
       "      <td>High</td>\n",
       "    </tr>\n",
       "    <tr>\n",
       "      <th>10836</th>\n",
       "      <td>FAMILY</td>\n",
       "      <td>3.637586</td>\n",
       "      <td>53000000</td>\n",
       "      <td>5000.0</td>\n",
       "      <td>Free</td>\n",
       "      <td>0.0</td>\n",
       "      <td>Everyone</td>\n",
       "      <td>High</td>\n",
       "    </tr>\n",
       "    <tr>\n",
       "      <th>10837</th>\n",
       "      <td>FAMILY</td>\n",
       "      <td>1.386294</td>\n",
       "      <td>3600000</td>\n",
       "      <td>100.0</td>\n",
       "      <td>Free</td>\n",
       "      <td>0.0</td>\n",
       "      <td>Everyone</td>\n",
       "      <td>High</td>\n",
       "    </tr>\n",
       "    <tr>\n",
       "      <th>10838</th>\n",
       "      <td>MEDICAL</td>\n",
       "      <td>1.098612</td>\n",
       "      <td>9500000</td>\n",
       "      <td>1000.0</td>\n",
       "      <td>Free</td>\n",
       "      <td>0.0</td>\n",
       "      <td>Everyone</td>\n",
       "      <td>High</td>\n",
       "    </tr>\n",
       "    <tr>\n",
       "      <th>10840</th>\n",
       "      <td>LIFESTYLE</td>\n",
       "      <td>12.894978</td>\n",
       "      <td>19000000</td>\n",
       "      <td>10000000.0</td>\n",
       "      <td>Free</td>\n",
       "      <td>0.0</td>\n",
       "      <td>Everyone</td>\n",
       "      <td>High</td>\n",
       "    </tr>\n",
       "  </tbody>\n",
       "</table>\n",
       "<p>9145 rows × 8 columns</p>\n",
       "</div>"
      ],
      "text/plain": [
       "             Category    Reviews      Size    Installs  Type  Price  \\\n",
       "0      ART_AND_DESIGN   5.068904  19000000     10000.0  Free    0.0   \n",
       "1      ART_AND_DESIGN   6.874198  14000000    500000.0  Free    0.0   \n",
       "2      ART_AND_DESIGN  11.379508   8700000   5000000.0  Free    0.0   \n",
       "3      ART_AND_DESIGN  12.281384  25000000  50000000.0  Free    0.0   \n",
       "4      ART_AND_DESIGN   6.874198   2800000    100000.0  Free    0.0   \n",
       "...               ...        ...       ...         ...   ...    ...   \n",
       "10835        BUSINESS   6.609349   9600000        10.0  Free    0.0   \n",
       "10836          FAMILY   3.637586  53000000      5000.0  Free    0.0   \n",
       "10837          FAMILY   1.386294   3600000       100.0  Free    0.0   \n",
       "10838         MEDICAL   1.098612   9500000      1000.0  Free    0.0   \n",
       "10840       LIFESTYLE  12.894978  19000000  10000000.0  Free    0.0   \n",
       "\n",
       "      Content Rating Rating_Category  \n",
       "0           Everyone            High  \n",
       "1           Everyone            High  \n",
       "2           Everyone            High  \n",
       "3               Teen            High  \n",
       "4           Everyone            High  \n",
       "...              ...             ...  \n",
       "10835       Everyone            High  \n",
       "10836       Everyone            High  \n",
       "10837       Everyone            High  \n",
       "10838       Everyone            High  \n",
       "10840       Everyone            High  \n",
       "\n",
       "[9145 rows x 8 columns]"
      ]
     },
     "execution_count": 296,
     "metadata": {},
     "output_type": "execute_result"
    }
   ],
   "source": [
    "fdrop = f1.copy()\n",
    "fdrop.drop(['App', 'Rating' ,'Genres','Last Updated', 'Current Ver','Android Ver'],axis = 1,inplace = True)\n",
    "fdrop"
   ]
  },
  {
   "cell_type": "markdown",
   "id": "704a050d",
   "metadata": {},
   "source": [
    "#### Label Encoding of the categorical columns"
   ]
  },
  {
   "cell_type": "code",
   "execution_count": 308,
   "id": "8155f0b5",
   "metadata": {},
   "outputs": [
    {
     "data": {
      "text/plain": [
       "StandardScaler()"
      ]
     },
     "execution_count": 308,
     "metadata": {},
     "output_type": "execute_result"
    }
   ],
   "source": [
    "#Scales the data. Essentially returns the z-scores of every attribute\n",
    "\n",
    "from sklearn.preprocessing import StandardScaler\n",
    "from sklearn.preprocessing import LabelEncoder\n",
    "std_scale = StandardScaler()\n",
    "\n",
    "std_scale"
   ]
  },
  {
   "cell_type": "code",
   "execution_count": 309,
   "id": "5768727a",
   "metadata": {
    "scrolled": false
   },
   "outputs": [
    {
     "data": {
      "text/html": [
       "<div>\n",
       "<style scoped>\n",
       "    .dataframe tbody tr th:only-of-type {\n",
       "        vertical-align: middle;\n",
       "    }\n",
       "\n",
       "    .dataframe tbody tr th {\n",
       "        vertical-align: top;\n",
       "    }\n",
       "\n",
       "    .dataframe thead th {\n",
       "        text-align: right;\n",
       "    }\n",
       "</style>\n",
       "<table border=\"1\" class=\"dataframe\">\n",
       "  <thead>\n",
       "    <tr style=\"text-align: right;\">\n",
       "      <th></th>\n",
       "      <th>Category</th>\n",
       "      <th>Reviews</th>\n",
       "      <th>Size</th>\n",
       "      <th>Installs</th>\n",
       "      <th>Type</th>\n",
       "      <th>Price</th>\n",
       "      <th>Content Rating</th>\n",
       "      <th>Rating_Category</th>\n",
       "    </tr>\n",
       "  </thead>\n",
       "  <tbody>\n",
       "    <tr>\n",
       "      <th>0</th>\n",
       "      <td>0</td>\n",
       "      <td>5.068904</td>\n",
       "      <td>19000000</td>\n",
       "      <td>10000.0</td>\n",
       "      <td>0</td>\n",
       "      <td>0.0</td>\n",
       "      <td>1</td>\n",
       "      <td>0</td>\n",
       "    </tr>\n",
       "    <tr>\n",
       "      <th>1</th>\n",
       "      <td>0</td>\n",
       "      <td>6.874198</td>\n",
       "      <td>14000000</td>\n",
       "      <td>500000.0</td>\n",
       "      <td>0</td>\n",
       "      <td>0.0</td>\n",
       "      <td>1</td>\n",
       "      <td>0</td>\n",
       "    </tr>\n",
       "  </tbody>\n",
       "</table>\n",
       "</div>"
      ],
      "text/plain": [
       "   Category   Reviews      Size  Installs  Type  Price  Content Rating  \\\n",
       "0         0  5.068904  19000000   10000.0     0    0.0               1   \n",
       "1         0  6.874198  14000000  500000.0     0    0.0               1   \n",
       "\n",
       "   Rating_Category  \n",
       "0                0  \n",
       "1                0  "
      ]
     },
     "execution_count": 309,
     "metadata": {},
     "output_type": "execute_result"
    }
   ],
   "source": [
    "cols = ['Category','Type','Content Rating','Rating_Category']\n",
    "fdrop[cols] = fdrop[cols].apply(LabelEncoder().fit_transform)\n",
    "fdrop.head(2)"
   ]
  },
  {
   "cell_type": "markdown",
   "id": "39a4c37a",
   "metadata": {},
   "source": [
    "#### Variabes need to be scaled before further analysis . Transformation seems unnecessary as most data points don't show any clear trend with Rating Category. Still checkking effect of Min-Max Scaling on the data set, which returns z-scores of the values of the attribute"
   ]
  },
  {
   "cell_type": "code",
   "execution_count": 310,
   "id": "54aa67eb",
   "metadata": {},
   "outputs": [
    {
     "data": {
      "text/html": [
       "<div>\n",
       "<style scoped>\n",
       "    .dataframe tbody tr th:only-of-type {\n",
       "        vertical-align: middle;\n",
       "    }\n",
       "\n",
       "    .dataframe tbody tr th {\n",
       "        vertical-align: top;\n",
       "    }\n",
       "\n",
       "    .dataframe thead th {\n",
       "        text-align: right;\n",
       "    }\n",
       "</style>\n",
       "<table border=\"1\" class=\"dataframe\">\n",
       "  <thead>\n",
       "    <tr style=\"text-align: right;\">\n",
       "      <th></th>\n",
       "      <th>Category</th>\n",
       "      <th>Reviews</th>\n",
       "      <th>Size</th>\n",
       "      <th>Installs</th>\n",
       "      <th>Type</th>\n",
       "      <th>Price</th>\n",
       "      <th>Content Rating</th>\n",
       "      <th>Rating_Category</th>\n",
       "    </tr>\n",
       "  </thead>\n",
       "  <tbody>\n",
       "    <tr>\n",
       "      <th>0</th>\n",
       "      <td>-2.001672</td>\n",
       "      <td>-0.508573</td>\n",
       "      <td>-0.111412</td>\n",
       "      <td>-0.153814</td>\n",
       "      <td>-0.293216</td>\n",
       "      <td>-0.068244</td>\n",
       "      <td>-0.452515</td>\n",
       "      <td>-0.318031</td>\n",
       "    </tr>\n",
       "    <tr>\n",
       "      <th>1</th>\n",
       "      <td>-2.001672</td>\n",
       "      <td>-0.044968</td>\n",
       "      <td>-0.332774</td>\n",
       "      <td>-0.143206</td>\n",
       "      <td>-0.293216</td>\n",
       "      <td>-0.068244</td>\n",
       "      <td>-0.452515</td>\n",
       "      <td>-0.318031</td>\n",
       "    </tr>\n",
       "    <tr>\n",
       "      <th>2</th>\n",
       "      <td>-2.001672</td>\n",
       "      <td>1.112008</td>\n",
       "      <td>-0.567417</td>\n",
       "      <td>-0.045785</td>\n",
       "      <td>-0.293216</td>\n",
       "      <td>-0.068244</td>\n",
       "      <td>-0.452515</td>\n",
       "      <td>-0.318031</td>\n",
       "    </tr>\n",
       "    <tr>\n",
       "      <th>3</th>\n",
       "      <td>-2.001672</td>\n",
       "      <td>1.343612</td>\n",
       "      <td>0.154221</td>\n",
       "      <td>0.928430</td>\n",
       "      <td>-0.293216</td>\n",
       "      <td>-0.068244</td>\n",
       "      <td>2.567370</td>\n",
       "      <td>-0.318031</td>\n",
       "    </tr>\n",
       "    <tr>\n",
       "      <th>4</th>\n",
       "      <td>-2.001672</td>\n",
       "      <td>-0.044968</td>\n",
       "      <td>-0.828623</td>\n",
       "      <td>-0.151866</td>\n",
       "      <td>-0.293216</td>\n",
       "      <td>-0.068244</td>\n",
       "      <td>-0.452515</td>\n",
       "      <td>-0.318031</td>\n",
       "    </tr>\n",
       "  </tbody>\n",
       "</table>\n",
       "</div>"
      ],
      "text/plain": [
       "   Category   Reviews      Size  Installs      Type     Price  Content Rating  \\\n",
       "0 -2.001672 -0.508573 -0.111412 -0.153814 -0.293216 -0.068244       -0.452515   \n",
       "1 -2.001672 -0.044968 -0.332774 -0.143206 -0.293216 -0.068244       -0.452515   \n",
       "2 -2.001672  1.112008 -0.567417 -0.045785 -0.293216 -0.068244       -0.452515   \n",
       "3 -2.001672  1.343612  0.154221  0.928430 -0.293216 -0.068244        2.567370   \n",
       "4 -2.001672 -0.044968 -0.828623 -0.151866 -0.293216 -0.068244       -0.452515   \n",
       "\n",
       "   Rating_Category  \n",
       "0        -0.318031  \n",
       "1        -0.318031  \n",
       "2        -0.318031  \n",
       "3        -0.318031  \n",
       "4        -0.318031  "
      ]
     },
     "execution_count": 310,
     "metadata": {},
     "output_type": "execute_result"
    }
   ],
   "source": [
    "# Standardising values\n",
    "\n",
    "flabel = fdrop.copy()\n",
    "\n",
    "flabel['Category'] = std_scale.fit_transform(flabel[['Category']]) \n",
    "flabel['Reviews'] = std_scale.fit_transform(flabel[['Reviews']]) \n",
    "flabel['Size'] = std_scale.fit_transform(flabel[['Size']]) \n",
    "flabel['Installs'] = std_scale.fit_transform(flabel[['Installs']]) \n",
    "flabel['Type'] = std_scale.fit_transform(flabel[['Type']])\n",
    "flabel['Price'] = std_scale.fit_transform(flabel[['Price']])\n",
    "flabel['Content Rating'] = std_scale.fit_transform(flabel[['Content Rating']])\n",
    "flabel['Rating_Category'] = std_scale.fit_transform(flabel[['Rating_Category']])\n",
    "\n",
    "flabel.head()\n",
    "# returns z-scores of the values of all attributes"
   ]
  },
  {
   "cell_type": "markdown",
   "id": "bee01de5",
   "metadata": {},
   "source": [
    "### Method 2 for Encoding: Log Transformation"
   ]
  },
  {
   "cell_type": "markdown",
   "id": "c58f6c1a",
   "metadata": {},
   "source": [
    "#### Bivariate Analysis"
   ]
  },
  {
   "cell_type": "code",
   "execution_count": 303,
   "id": "98774d40",
   "metadata": {},
   "outputs": [
    {
     "data": {
      "text/html": [
       "<style type=\"text/css\">\n",
       "#T_126fe_row0_col0, #T_126fe_row1_col1, #T_126fe_row2_col2, #T_126fe_row3_col3, #T_126fe_row4_col4, #T_126fe_row5_col5, #T_126fe_row6_col6, #T_126fe_row7_col7, #T_126fe_row8_col8, #T_126fe_row9_col9 {\n",
       "  background-color: #b40426;\n",
       "  color: #f1f1f1;\n",
       "}\n",
       "#T_126fe_row0_col1 {\n",
       "  background-color: #e2dad5;\n",
       "  color: #000000;\n",
       "}\n",
       "#T_126fe_row0_col2 {\n",
       "  background-color: #f2c9b4;\n",
       "  color: #000000;\n",
       "}\n",
       "#T_126fe_row0_col3, #T_126fe_row8_col6 {\n",
       "  background-color: #f6bfa6;\n",
       "  color: #000000;\n",
       "}\n",
       "#T_126fe_row0_col4 {\n",
       "  background-color: #c9d7f0;\n",
       "  color: #000000;\n",
       "}\n",
       "#T_126fe_row0_col5, #T_126fe_row0_col6, #T_126fe_row2_col3, #T_126fe_row2_col9, #T_126fe_row3_col2, #T_126fe_row4_col7, #T_126fe_row4_col8, #T_126fe_row6_col0, #T_126fe_row6_col1, #T_126fe_row8_col4 {\n",
       "  background-color: #3b4cc0;\n",
       "  color: #f1f1f1;\n",
       "}\n",
       "#T_126fe_row0_col7 {\n",
       "  background-color: #f7ba9f;\n",
       "  color: #000000;\n",
       "}\n",
       "#T_126fe_row0_col8 {\n",
       "  background-color: #5b7ae5;\n",
       "  color: #f1f1f1;\n",
       "}\n",
       "#T_126fe_row0_col9, #T_126fe_row5_col0 {\n",
       "  background-color: #9abbff;\n",
       "  color: #000000;\n",
       "}\n",
       "#T_126fe_row1_col0 {\n",
       "  background-color: #f4c5ad;\n",
       "  color: #000000;\n",
       "}\n",
       "#T_126fe_row1_col2 {\n",
       "  background-color: #6c8ff1;\n",
       "  color: #f1f1f1;\n",
       "}\n",
       "#T_126fe_row1_col3 {\n",
       "  background-color: #f7a688;\n",
       "  color: #000000;\n",
       "}\n",
       "#T_126fe_row1_col4 {\n",
       "  background-color: #7da0f9;\n",
       "  color: #f1f1f1;\n",
       "}\n",
       "#T_126fe_row1_col5 {\n",
       "  background-color: #dcdddd;\n",
       "  color: #000000;\n",
       "}\n",
       "#T_126fe_row1_col6 {\n",
       "  background-color: #80a3fa;\n",
       "  color: #f1f1f1;\n",
       "}\n",
       "#T_126fe_row1_col7 {\n",
       "  background-color: #f39475;\n",
       "  color: #000000;\n",
       "}\n",
       "#T_126fe_row1_col8 {\n",
       "  background-color: #e6d7cf;\n",
       "  color: #000000;\n",
       "}\n",
       "#T_126fe_row1_col9 {\n",
       "  background-color: #c5d6f2;\n",
       "  color: #000000;\n",
       "}\n",
       "#T_126fe_row2_col0, #T_126fe_row3_col7, #T_126fe_row7_col3 {\n",
       "  background-color: #f7bca1;\n",
       "  color: #000000;\n",
       "}\n",
       "#T_126fe_row2_col1, #T_126fe_row4_col1, #T_126fe_row7_col4 {\n",
       "  background-color: #4b64d5;\n",
       "  color: #f1f1f1;\n",
       "}\n",
       "#T_126fe_row2_col4, #T_126fe_row9_col8 {\n",
       "  background-color: #d6dce4;\n",
       "  color: #000000;\n",
       "}\n",
       "#T_126fe_row2_col5 {\n",
       "  background-color: #516ddb;\n",
       "  color: #f1f1f1;\n",
       "}\n",
       "#T_126fe_row2_col6 {\n",
       "  background-color: #b6cefa;\n",
       "  color: #000000;\n",
       "}\n",
       "#T_126fe_row2_col7, #T_126fe_row7_col2 {\n",
       "  background-color: #b1cbfc;\n",
       "  color: #000000;\n",
       "}\n",
       "#T_126fe_row2_col8 {\n",
       "  background-color: #5d7ce6;\n",
       "  color: #f1f1f1;\n",
       "}\n",
       "#T_126fe_row3_col0, #T_126fe_row3_col1 {\n",
       "  background-color: #f7b194;\n",
       "  color: #000000;\n",
       "}\n",
       "#T_126fe_row3_col4 {\n",
       "  background-color: #89acfd;\n",
       "  color: #000000;\n",
       "}\n",
       "#T_126fe_row3_col5 {\n",
       "  background-color: #3c4ec2;\n",
       "  color: #f1f1f1;\n",
       "}\n",
       "#T_126fe_row3_col6 {\n",
       "  background-color: #6788ee;\n",
       "  color: #f1f1f1;\n",
       "}\n",
       "#T_126fe_row3_col8 {\n",
       "  background-color: #ead5c9;\n",
       "  color: #000000;\n",
       "}\n",
       "#T_126fe_row3_col9 {\n",
       "  background-color: #f2cbb7;\n",
       "  color: #000000;\n",
       "}\n",
       "#T_126fe_row4_col0 {\n",
       "  background-color: #d3dbe7;\n",
       "  color: #000000;\n",
       "}\n",
       "#T_126fe_row4_col2 {\n",
       "  background-color: #cdd9ec;\n",
       "  color: #000000;\n",
       "}\n",
       "#T_126fe_row4_col3 {\n",
       "  background-color: #7a9df8;\n",
       "  color: #f1f1f1;\n",
       "}\n",
       "#T_126fe_row4_col5 {\n",
       "  background-color: #5a78e4;\n",
       "  color: #f1f1f1;\n",
       "}\n",
       "#T_126fe_row4_col6 {\n",
       "  background-color: #abc8fd;\n",
       "  color: #000000;\n",
       "}\n",
       "#T_126fe_row4_col9, #T_126fe_row7_col6 {\n",
       "  background-color: #6687ed;\n",
       "  color: #f1f1f1;\n",
       "}\n",
       "#T_126fe_row5_col1 {\n",
       "  background-color: #e9d5cb;\n",
       "  color: #000000;\n",
       "}\n",
       "#T_126fe_row5_col2 {\n",
       "  background-color: #8db0fe;\n",
       "  color: #000000;\n",
       "}\n",
       "#T_126fe_row5_col3 {\n",
       "  background-color: #799cf8;\n",
       "  color: #f1f1f1;\n",
       "}\n",
       "#T_126fe_row5_col4 {\n",
       "  background-color: #a3c2fe;\n",
       "  color: #000000;\n",
       "}\n",
       "#T_126fe_row5_col6, #T_126fe_row9_col1 {\n",
       "  background-color: #c1d4f4;\n",
       "  color: #000000;\n",
       "}\n",
       "#T_126fe_row5_col7, #T_126fe_row9_col7 {\n",
       "  background-color: #f4c6af;\n",
       "  color: #000000;\n",
       "}\n",
       "#T_126fe_row5_col8 {\n",
       "  background-color: #dfdbd9;\n",
       "  color: #000000;\n",
       "}\n",
       "#T_126fe_row5_col9 {\n",
       "  background-color: #aec9fc;\n",
       "  color: #000000;\n",
       "}\n",
       "#T_126fe_row6_col2 {\n",
       "  background-color: #98b9ff;\n",
       "  color: #000000;\n",
       "}\n",
       "#T_126fe_row6_col3 {\n",
       "  background-color: #4358cb;\n",
       "  color: #f1f1f1;\n",
       "}\n",
       "#T_126fe_row6_col4 {\n",
       "  background-color: #9bbcff;\n",
       "  color: #000000;\n",
       "}\n",
       "#T_126fe_row6_col5, #T_126fe_row8_col0 {\n",
       "  background-color: #6f92f3;\n",
       "  color: #f1f1f1;\n",
       "}\n",
       "#T_126fe_row6_col7 {\n",
       "  background-color: #3f53c6;\n",
       "  color: #f1f1f1;\n",
       "}\n",
       "#T_126fe_row6_col8, #T_126fe_row7_col8 {\n",
       "  background-color: #f3c7b1;\n",
       "  color: #000000;\n",
       "}\n",
       "#T_126fe_row6_col9 {\n",
       "  background-color: #4055c8;\n",
       "  color: #f1f1f1;\n",
       "}\n",
       "#T_126fe_row7_col0 {\n",
       "  background-color: #f7ad90;\n",
       "  color: #000000;\n",
       "}\n",
       "#T_126fe_row7_col1 {\n",
       "  background-color: #f59f80;\n",
       "  color: #000000;\n",
       "}\n",
       "#T_126fe_row7_col5 {\n",
       "  background-color: #e4d9d2;\n",
       "  color: #000000;\n",
       "}\n",
       "#T_126fe_row7_col9 {\n",
       "  background-color: #efcfbf;\n",
       "  color: #000000;\n",
       "}\n",
       "#T_126fe_row8_col1 {\n",
       "  background-color: #cfdaea;\n",
       "  color: #000000;\n",
       "}\n",
       "#T_126fe_row8_col2 {\n",
       "  background-color: #4c66d6;\n",
       "  color: #f1f1f1;\n",
       "}\n",
       "#T_126fe_row8_col3 {\n",
       "  background-color: #e3d9d3;\n",
       "  color: #000000;\n",
       "}\n",
       "#T_126fe_row8_col5 {\n",
       "  background-color: #b2ccfb;\n",
       "  color: #000000;\n",
       "}\n",
       "#T_126fe_row8_col7 {\n",
       "  background-color: #f1cdba;\n",
       "  color: #000000;\n",
       "}\n",
       "#T_126fe_row8_col9 {\n",
       "  background-color: #bbd1f8;\n",
       "  color: #000000;\n",
       "}\n",
       "#T_126fe_row9_col0 {\n",
       "  background-color: #cad8ef;\n",
       "  color: #000000;\n",
       "}\n",
       "#T_126fe_row9_col2 {\n",
       "  background-color: #5673e0;\n",
       "  color: #f1f1f1;\n",
       "}\n",
       "#T_126fe_row9_col3 {\n",
       "  background-color: #f5c0a7;\n",
       "  color: #000000;\n",
       "}\n",
       "#T_126fe_row9_col4 {\n",
       "  background-color: #92b4fe;\n",
       "  color: #000000;\n",
       "}\n",
       "#T_126fe_row9_col5 {\n",
       "  background-color: #93b5fe;\n",
       "  color: #000000;\n",
       "}\n",
       "#T_126fe_row9_col6 {\n",
       "  background-color: #81a4fb;\n",
       "  color: #f1f1f1;\n",
       "}\n",
       "</style>\n",
       "<table id=\"T_126fe\">\n",
       "  <thead>\n",
       "    <tr>\n",
       "      <th class=\"blank level0\" >&nbsp;</th>\n",
       "      <th id=\"T_126fe_level0_col0\" class=\"col_heading level0 col0\" >0</th>\n",
       "      <th id=\"T_126fe_level0_col1\" class=\"col_heading level0 col1\" >1</th>\n",
       "      <th id=\"T_126fe_level0_col2\" class=\"col_heading level0 col2\" >2</th>\n",
       "      <th id=\"T_126fe_level0_col3\" class=\"col_heading level0 col3\" >3</th>\n",
       "      <th id=\"T_126fe_level0_col4\" class=\"col_heading level0 col4\" >4</th>\n",
       "      <th id=\"T_126fe_level0_col5\" class=\"col_heading level0 col5\" >5</th>\n",
       "      <th id=\"T_126fe_level0_col6\" class=\"col_heading level0 col6\" >6</th>\n",
       "      <th id=\"T_126fe_level0_col7\" class=\"col_heading level0 col7\" >7</th>\n",
       "      <th id=\"T_126fe_level0_col8\" class=\"col_heading level0 col8\" >8</th>\n",
       "      <th id=\"T_126fe_level0_col9\" class=\"col_heading level0 col9\" >9</th>\n",
       "    </tr>\n",
       "  </thead>\n",
       "  <tbody>\n",
       "    <tr>\n",
       "      <th id=\"T_126fe_level0_row0\" class=\"row_heading level0 row0\" >0</th>\n",
       "      <td id=\"T_126fe_row0_col0\" class=\"data row0 col0\" >1.000000</td>\n",
       "      <td id=\"T_126fe_row0_col1\" class=\"data row0 col1\" >0.347533</td>\n",
       "      <td id=\"T_126fe_row0_col2\" class=\"data row0 col2\" >0.398948</td>\n",
       "      <td id=\"T_126fe_row0_col3\" class=\"data row0 col3\" >0.455743</td>\n",
       "      <td id=\"T_126fe_row0_col4\" class=\"data row0 col4\" >0.072914</td>\n",
       "      <td id=\"T_126fe_row0_col5\" class=\"data row0 col5\" >-0.233402</td>\n",
       "      <td id=\"T_126fe_row0_col6\" class=\"data row0 col6\" >-0.731222</td>\n",
       "      <td id=\"T_126fe_row0_col7\" class=\"data row0 col7\" >0.477978</td>\n",
       "      <td id=\"T_126fe_row0_col8\" class=\"data row0 col8\" >-0.442621</td>\n",
       "      <td id=\"T_126fe_row0_col9\" class=\"data row0 col9\" >0.015185</td>\n",
       "    </tr>\n",
       "    <tr>\n",
       "      <th id=\"T_126fe_level0_row1\" class=\"row_heading level0 row1\" >1</th>\n",
       "      <td id=\"T_126fe_row1_col0\" class=\"data row1 col0\" >0.347533</td>\n",
       "      <td id=\"T_126fe_row1_col1\" class=\"data row1 col1\" >1.000000</td>\n",
       "      <td id=\"T_126fe_row1_col2\" class=\"data row1 col2\" >-0.284056</td>\n",
       "      <td id=\"T_126fe_row1_col3\" class=\"data row1 col3\" >0.571003</td>\n",
       "      <td id=\"T_126fe_row1_col4\" class=\"data row1 col4\" >-0.285483</td>\n",
       "      <td id=\"T_126fe_row1_col5\" class=\"data row1 col5\" >0.382480</td>\n",
       "      <td id=\"T_126fe_row1_col6\" class=\"data row1 col6\" >-0.362842</td>\n",
       "      <td id=\"T_126fe_row1_col7\" class=\"data row1 col7\" >0.642578</td>\n",
       "      <td id=\"T_126fe_row1_col8\" class=\"data row1 col8\" >0.252556</td>\n",
       "      <td id=\"T_126fe_row1_col9\" class=\"data row1 col9\" >0.190047</td>\n",
       "    </tr>\n",
       "    <tr>\n",
       "      <th id=\"T_126fe_level0_row2\" class=\"row_heading level0 row2\" >2</th>\n",
       "      <td id=\"T_126fe_row2_col0\" class=\"data row2 col0\" >0.398948</td>\n",
       "      <td id=\"T_126fe_row2_col1\" class=\"data row2 col1\" >-0.284056</td>\n",
       "      <td id=\"T_126fe_row2_col2\" class=\"data row2 col2\" >1.000000</td>\n",
       "      <td id=\"T_126fe_row2_col3\" class=\"data row2 col3\" >-0.523649</td>\n",
       "      <td id=\"T_126fe_row2_col4\" class=\"data row2 col4\" >0.152937</td>\n",
       "      <td id=\"T_126fe_row2_col5\" class=\"data row2 col5\" >-0.139176</td>\n",
       "      <td id=\"T_126fe_row2_col6\" class=\"data row2 col6\" >-0.092895</td>\n",
       "      <td id=\"T_126fe_row2_col7\" class=\"data row2 col7\" >0.016266</td>\n",
       "      <td id=\"T_126fe_row2_col8\" class=\"data row2 col8\" >-0.434016</td>\n",
       "      <td id=\"T_126fe_row2_col9\" class=\"data row2 col9\" >-0.383585</td>\n",
       "    </tr>\n",
       "    <tr>\n",
       "      <th id=\"T_126fe_level0_row3\" class=\"row_heading level0 row3\" >3</th>\n",
       "      <td id=\"T_126fe_row3_col0\" class=\"data row3 col0\" >0.455743</td>\n",
       "      <td id=\"T_126fe_row3_col1\" class=\"data row3 col1\" >0.571003</td>\n",
       "      <td id=\"T_126fe_row3_col2\" class=\"data row3 col2\" >-0.523649</td>\n",
       "      <td id=\"T_126fe_row3_col3\" class=\"data row3 col3\" >1.000000</td>\n",
       "      <td id=\"T_126fe_row3_col4\" class=\"data row3 col4\" >-0.225343</td>\n",
       "      <td id=\"T_126fe_row3_col5\" class=\"data row3 col5\" >-0.227577</td>\n",
       "      <td id=\"T_126fe_row3_col6\" class=\"data row3 col6\" >-0.481548</td>\n",
       "      <td id=\"T_126fe_row3_col7\" class=\"data row3 col7\" >0.473286</td>\n",
       "      <td id=\"T_126fe_row3_col8\" class=\"data row3 col8\" >0.279258</td>\n",
       "      <td id=\"T_126fe_row3_col9\" class=\"data row3 col9\" >0.446650</td>\n",
       "    </tr>\n",
       "    <tr>\n",
       "      <th id=\"T_126fe_level0_row4\" class=\"row_heading level0 row4\" >4</th>\n",
       "      <td id=\"T_126fe_row4_col0\" class=\"data row4 col0\" >0.072914</td>\n",
       "      <td id=\"T_126fe_row4_col1\" class=\"data row4 col1\" >-0.285483</td>\n",
       "      <td id=\"T_126fe_row4_col2\" class=\"data row4 col2\" >0.152937</td>\n",
       "      <td id=\"T_126fe_row4_col3\" class=\"data row4 col3\" >-0.225343</td>\n",
       "      <td id=\"T_126fe_row4_col4\" class=\"data row4 col4\" >1.000000</td>\n",
       "      <td id=\"T_126fe_row4_col5\" class=\"data row4 col5\" >-0.104438</td>\n",
       "      <td id=\"T_126fe_row4_col6\" class=\"data row4 col6\" >-0.147477</td>\n",
       "      <td id=\"T_126fe_row4_col7\" class=\"data row4 col7\" >-0.523283</td>\n",
       "      <td id=\"T_126fe_row4_col8\" class=\"data row4 col8\" >-0.614603</td>\n",
       "      <td id=\"T_126fe_row4_col9\" class=\"data row4 col9\" >-0.189916</td>\n",
       "    </tr>\n",
       "    <tr>\n",
       "      <th id=\"T_126fe_level0_row5\" class=\"row_heading level0 row5\" >5</th>\n",
       "      <td id=\"T_126fe_row5_col0\" class=\"data row5 col0\" >-0.233402</td>\n",
       "      <td id=\"T_126fe_row5_col1\" class=\"data row5 col1\" >0.382480</td>\n",
       "      <td id=\"T_126fe_row5_col2\" class=\"data row5 col2\" >-0.139176</td>\n",
       "      <td id=\"T_126fe_row5_col3\" class=\"data row5 col3\" >-0.227577</td>\n",
       "      <td id=\"T_126fe_row5_col4\" class=\"data row5 col4\" >-0.104438</td>\n",
       "      <td id=\"T_126fe_row5_col5\" class=\"data row5 col5\" >1.000000</td>\n",
       "      <td id=\"T_126fe_row5_col6\" class=\"data row5 col6\" >-0.030252</td>\n",
       "      <td id=\"T_126fe_row5_col7\" class=\"data row5 col7\" >0.417640</td>\n",
       "      <td id=\"T_126fe_row5_col8\" class=\"data row5 col8\" >0.205851</td>\n",
       "      <td id=\"T_126fe_row5_col9\" class=\"data row5 col9\" >0.095084</td>\n",
       "    </tr>\n",
       "    <tr>\n",
       "      <th id=\"T_126fe_level0_row6\" class=\"row_heading level0 row6\" >6</th>\n",
       "      <td id=\"T_126fe_row6_col0\" class=\"data row6 col0\" >-0.731222</td>\n",
       "      <td id=\"T_126fe_row6_col1\" class=\"data row6 col1\" >-0.362842</td>\n",
       "      <td id=\"T_126fe_row6_col2\" class=\"data row6 col2\" >-0.092895</td>\n",
       "      <td id=\"T_126fe_row6_col3\" class=\"data row6 col3\" >-0.481548</td>\n",
       "      <td id=\"T_126fe_row6_col4\" class=\"data row6 col4\" >-0.147477</td>\n",
       "      <td id=\"T_126fe_row6_col5\" class=\"data row6 col5\" >-0.030252</td>\n",
       "      <td id=\"T_126fe_row6_col6\" class=\"data row6 col6\" >1.000000</td>\n",
       "      <td id=\"T_126fe_row6_col7\" class=\"data row6 col7\" >-0.494440</td>\n",
       "      <td id=\"T_126fe_row6_col8\" class=\"data row6 col8\" >0.381407</td>\n",
       "      <td id=\"T_126fe_row6_col9\" class=\"data row6 col9\" >-0.353652</td>\n",
       "    </tr>\n",
       "    <tr>\n",
       "      <th id=\"T_126fe_level0_row7\" class=\"row_heading level0 row7\" >7</th>\n",
       "      <td id=\"T_126fe_row7_col0\" class=\"data row7 col0\" >0.477978</td>\n",
       "      <td id=\"T_126fe_row7_col1\" class=\"data row7 col1\" >0.642578</td>\n",
       "      <td id=\"T_126fe_row7_col2\" class=\"data row7 col2\" >0.016266</td>\n",
       "      <td id=\"T_126fe_row7_col3\" class=\"data row7 col3\" >0.473286</td>\n",
       "      <td id=\"T_126fe_row7_col4\" class=\"data row7 col4\" >-0.523283</td>\n",
       "      <td id=\"T_126fe_row7_col5\" class=\"data row7 col5\" >0.417640</td>\n",
       "      <td id=\"T_126fe_row7_col6\" class=\"data row7 col6\" >-0.494440</td>\n",
       "      <td id=\"T_126fe_row7_col7\" class=\"data row7 col7\" >1.000000</td>\n",
       "      <td id=\"T_126fe_row7_col8\" class=\"data row7 col8\" >0.375873</td>\n",
       "      <td id=\"T_126fe_row7_col9\" class=\"data row7 col9\" >0.417863</td>\n",
       "    </tr>\n",
       "    <tr>\n",
       "      <th id=\"T_126fe_level0_row8\" class=\"row_heading level0 row8\" >8</th>\n",
       "      <td id=\"T_126fe_row8_col0\" class=\"data row8 col0\" >-0.442621</td>\n",
       "      <td id=\"T_126fe_row8_col1\" class=\"data row8 col1\" >0.252556</td>\n",
       "      <td id=\"T_126fe_row8_col2\" class=\"data row8 col2\" >-0.434016</td>\n",
       "      <td id=\"T_126fe_row8_col3\" class=\"data row8 col3\" >0.279258</td>\n",
       "      <td id=\"T_126fe_row8_col4\" class=\"data row8 col4\" >-0.614603</td>\n",
       "      <td id=\"T_126fe_row8_col5\" class=\"data row8 col5\" >0.205851</td>\n",
       "      <td id=\"T_126fe_row8_col6\" class=\"data row8 col6\" >0.381407</td>\n",
       "      <td id=\"T_126fe_row8_col7\" class=\"data row8 col7\" >0.375873</td>\n",
       "      <td id=\"T_126fe_row8_col8\" class=\"data row8 col8\" >1.000000</td>\n",
       "      <td id=\"T_126fe_row8_col9\" class=\"data row8 col9\" >0.150421</td>\n",
       "    </tr>\n",
       "    <tr>\n",
       "      <th id=\"T_126fe_level0_row9\" class=\"row_heading level0 row9\" >9</th>\n",
       "      <td id=\"T_126fe_row9_col0\" class=\"data row9 col0\" >0.015185</td>\n",
       "      <td id=\"T_126fe_row9_col1\" class=\"data row9 col1\" >0.190047</td>\n",
       "      <td id=\"T_126fe_row9_col2\" class=\"data row9 col2\" >-0.383585</td>\n",
       "      <td id=\"T_126fe_row9_col3\" class=\"data row9 col3\" >0.446650</td>\n",
       "      <td id=\"T_126fe_row9_col4\" class=\"data row9 col4\" >-0.189916</td>\n",
       "      <td id=\"T_126fe_row9_col5\" class=\"data row9 col5\" >0.095084</td>\n",
       "      <td id=\"T_126fe_row9_col6\" class=\"data row9 col6\" >-0.353652</td>\n",
       "      <td id=\"T_126fe_row9_col7\" class=\"data row9 col7\" >0.417863</td>\n",
       "      <td id=\"T_126fe_row9_col8\" class=\"data row9 col8\" >0.150421</td>\n",
       "      <td id=\"T_126fe_row9_col9\" class=\"data row9 col9\" >1.000000</td>\n",
       "    </tr>\n",
       "  </tbody>\n",
       "</table>\n"
      ],
      "text/plain": [
       "<pandas.io.formats.style.Styler at 0x23eff52abb0>"
      ]
     },
     "execution_count": 303,
     "metadata": {},
     "output_type": "execute_result"
    }
   ],
   "source": [
    "fba = fdrop.copy()\n",
    "rs = np.random.RandomState(0)\n",
    "fba = pd.DataFrame(rs.rand(10, 10))\n",
    "corr = fba.corr()\n",
    "corr.style.background_gradient(cmap = 'coolwarm')"
   ]
  },
  {
   "cell_type": "markdown",
   "id": "a7953019",
   "metadata": {},
   "source": [
    "####  Multivariate Analysis and Scatter Plot"
   ]
  },
  {
   "cell_type": "code",
   "execution_count": 304,
   "id": "66e3e1b4",
   "metadata": {},
   "outputs": [
    {
     "data": {
      "image/png": "[encoded data removed]",
      "text/plain": [
       "<Figure size 1080x180 with 6 Axes>"
      ]
     },
     "metadata": {
      "needs_background": "light"
     },
     "output_type": "display_data"
    }
   ],
   "source": [
    "sns.pairplot(fdrop, y_vars = 'Rating_Category', x_vars = [\"Category\",'Reviews','Price','Installs','Size','Content Rating'])\n",
    "                                                             \n",
    "plt.show()"
   ]
  },
  {
   "cell_type": "markdown",
   "id": "14eeeea7",
   "metadata": {},
   "source": [
    "Inference: Very less relationship can be seen between Rating_Category and 'Category, Reviews, Price, 'Installs, Size, and Content Rating'\n"
   ]
  },
  {
   "cell_type": "markdown",
   "id": "23309c7a",
   "metadata": {},
   "source": [
    "#### Variabes need to be scaled before further analysis . Transformation seems unnecessary as most data points don't show any clear trend with Rating Category. Still checkking effect of log transformation on the data set."
   ]
  },
  {
   "cell_type": "code",
   "execution_count": 413,
   "id": "ceafae87",
   "metadata": {},
   "outputs": [],
   "source": [
    "# Taking 'fml' as a variable that indicates log in of values for the Machine Learning Process\n",
    "fml = fdrop.copy()"
   ]
  },
  {
   "cell_type": "code",
   "execution_count": 414,
   "id": "8a2c9307",
   "metadata": {},
   "outputs": [],
   "source": [
    "D1 = np.log(fml['Category'])\n",
    "D2 = np.log(fml['Reviews'])\n",
    "D3 = np.log(fml['Size'])\n",
    "D4 = np.log(fml['Installs'])\n",
    "D5 = np.log(fml['Type'])\n",
    "D6 = np.log(fml['Price'])\n",
    "D7 = np.log(fml['Content Rating'])\n",
    "D8 = np.log(fml['Rating_Category'])"
   ]
  },
  {
   "cell_type": "code",
   "execution_count": 415,
   "id": "0e0b762a",
   "metadata": {},
   "outputs": [
    {
     "data": {
      "image/png": "[encoded data removed]",
      "text/plain": [
       "<Figure size 288x144 with 1 Axes>"
      ]
     },
     "metadata": {
      "needs_background": "light"
     },
     "output_type": "display_data"
    },
    {
     "data": {
      "image/png": "[encoded data removed]",
      "text/plain": [
       "<Figure size 288x144 with 1 Axes>"
      ]
     },
     "metadata": {
      "needs_background": "light"
     },
     "output_type": "display_data"
    },
    {
     "data": {
      "image/png": "[encoded data removed]",
      "text/plain": [
       "<Figure size 288x144 with 1 Axes>"
      ]
     },
     "metadata": {
      "needs_background": "light"
     },
     "output_type": "display_data"
    }
   ],
   "source": [
    "plt.figure(figsize = (4,2))\n",
    "plt.subplot(1, 2, 1)\n",
    "plt.title('Rating_Category vs Log(Category)')\n",
    "plt.scatter( D1, fml['Rating_Category'])\n",
    "plt.xlabel('Log(Category)')\n",
    "plt.ylabel('Rating_Category')\n",
    "\n",
    "\n",
    "plt.figure(figsize = (4,2))\n",
    "plt.subplot(1, 2, 2)\n",
    "plt.title('Rating_Category vs Log(Reviews)')\n",
    "plt.scatter( D2, fml['Rating_Category'])\n",
    "plt.xlabel('Log(Reviews)')\n",
    "plt.ylabel('Rating_Category')\n",
    "plt.show()\n",
    "\n",
    "plt.figure(figsize = (4,2))\n",
    "plt.subplot(1, 2, 2)\n",
    "plt.title('Rating_Category vs Log(Price)')\n",
    "plt.scatter( D2, fml['Rating_Category'])\n",
    "plt.xlabel('Log(Price)')\n",
    "plt.ylabel('Rating_Category')\n",
    "plt.show()"
   ]
  },
  {
   "cell_type": "markdown",
   "id": "99cc9815",
   "metadata": {},
   "source": [
    "#### Plotting a heatmap to check for 'X' variables having a good correlation with our Target variable 'Y' - 'Rating_Category'"
   ]
  },
  {
   "cell_type": "code",
   "execution_count": 416,
   "id": "d3452f1e",
   "metadata": {
    "scrolled": true
   },
   "outputs": [
    {
     "data": {
      "text/plain": [
       "<AxesSubplot:>"
      ]
     },
     "execution_count": 416,
     "metadata": {},
     "output_type": "execute_result"
    },
    {
     "data": {
      "image/png": "[encoded data removed]",
      "text/plain": [
       "<Figure size 432x288 with 2 Axes>"
      ]
     },
     "metadata": {
      "needs_background": "light"
     },
     "output_type": "display_data"
    }
   ],
   "source": [
    "ls = fml.corr()\n",
    "sns.heatmap(ls,annot = True)"
   ]
  },
  {
   "cell_type": "raw",
   "id": "3e544534",
   "metadata": {},
   "source": [
    "Inference:\n",
    "\n",
    "\n",
    "Our target variable Y = 'Rating_Category' and response variable X1 = 'Category' and show a good positive relationship of 0.03 only\n",
    "\n",
    "Our target variable Y = 'Rating_Category' and response variable X2 = 'Reviews' and show a good negative relationship of -0.15 only\n",
    "\n",
    "So, instead of predicting on the basis of simple linear regression, we will use \"MULTI-LINEAR REGRESSION' here"
   ]
  },
  {
   "cell_type": "markdown",
   "id": "f7db3c2e",
   "metadata": {},
   "source": [
    "### Multi Linear Regression Model: Predicting the Success of Apps in the App Store "
   ]
  },
  {
   "cell_type": "markdown",
   "id": "f0c18080",
   "metadata": {},
   "source": [
    "#### Train Test Split keeping 'Y', a target variable as 'Rating_Category'"
   ]
  },
  {
   "cell_type": "code",
   "execution_count": 417,
   "id": "195e9c63",
   "metadata": {},
   "outputs": [],
   "source": [
    "np.random.seed(0)\n",
    "fml_train, fml_test = train_test_split(fml, train_size = 0.7, test_size = 0.3, random_state = 100)"
   ]
  },
  {
   "cell_type": "code",
   "execution_count": 418,
   "id": "57ac73a9",
   "metadata": {},
   "outputs": [],
   "source": [
    "X_train = fml_train\n",
    "y_train = fml_train.pop('Rating_Category')"
   ]
  },
  {
   "cell_type": "code",
   "execution_count": 419,
   "id": "51684dfa",
   "metadata": {},
   "outputs": [],
   "source": [
    "X_test = fml_test\n",
    "y_test = fml_test.pop('Rating_Category')"
   ]
  },
  {
   "cell_type": "code",
   "execution_count": 422,
   "id": "94b195d9",
   "metadata": {},
   "outputs": [
    {
     "name": "stdout",
     "output_type": "stream",
     "text": [
      "(6401, 7)\n",
      "(6401,)\n",
      "(2744, 7)\n",
      "(2744,)\n"
     ]
    }
   ],
   "source": [
    "print(X_train.shape)\n",
    "print(y_train.shape)\n",
    "print(X_test.shape)\n",
    "print(y_test.shape)"
   ]
  },
  {
   "cell_type": "markdown",
   "id": "d9aa0579",
   "metadata": {},
   "source": [
    "#### Fitting Regression Model"
   ]
  },
  {
   "cell_type": "code",
   "execution_count": 421,
   "id": "96280048",
   "metadata": {},
   "outputs": [
    {
     "data": {
      "text/plain": [
       "array([ 8.93121371e-04, -1.19397360e-02, -1.00012051e-10,  1.57782394e-11,\n",
       "       -2.94866591e-02,  3.89556516e-05, -7.57470256e-04])"
      ]
     },
     "execution_count": 421,
     "metadata": {},
     "output_type": "execute_result"
    }
   ],
   "source": [
    "lr = LinearRegression()\n",
    "lr_model = lr.fit(X_train, y_train)\n",
    "lr_model.coef_"
   ]
  },
  {
   "cell_type": "code",
   "execution_count": 423,
   "id": "7037a28a",
   "metadata": {},
   "outputs": [
    {
     "name": "stdout",
     "output_type": "stream",
     "text": [
      "0.026479209518615487\n",
      "0.024359878442835048\n"
     ]
    }
   ],
   "source": [
    "print(lr_model.score(X_train, y_train))\n",
    "print(lr_model.score(X_test, y_test))"
   ]
  },
  {
   "cell_type": "code",
   "execution_count": 424,
   "id": "5a0a15fd",
   "metadata": {},
   "outputs": [],
   "source": [
    "# Model Prediction\n",
    "\n",
    "y_pred = lr_model.predict(X_test)\n",
    "\n",
    "# Taking the inverse transform the predicted data\n",
    "#y_predict_orig = scaler.inverse_transform(y_pred)\n",
    "#y_test_orig = scaler.inverse_transform(y_test)"
   ]
  },
  {
   "cell_type": "code",
   "execution_count": 425,
   "id": "0f4e0366",
   "metadata": {},
   "outputs": [],
   "source": [
    "k = X_test.shape[1]\n",
    "n = len(X_test)"
   ]
  },
  {
   "cell_type": "code",
   "execution_count": 426,
   "id": "34c58982",
   "metadata": {
    "scrolled": true
   },
   "outputs": [
    {
     "name": "stdout",
     "output_type": "stream",
     "text": [
      "RMSE = 0.282 \n",
      "MSE = 0.07933298182304752 \n",
      "MAE = 0.16165559161895804 \n",
      "R2 = 0.024359878442835048 \n",
      "Adjusted R2 = 0.021863723161073212\n"
     ]
    }
   ],
   "source": [
    "RMSE = float(format(np.sqrt(mean_squared_error(y_test, y_pred)),'.3f'))\n",
    "MSE = mean_squared_error(y_test, y_pred)\n",
    "MAE = mean_absolute_error(y_test, y_pred)\n",
    "r2 = r2_score(y_test, y_pred)\n",
    "adj_r2 = 1-(1-r2)*(n-1)/(n-k-1)\n",
    "\n",
    "print('RMSE =',RMSE, '\\nMSE =',MSE, '\\nMAE =',MAE, '\\nR2 =', r2, '\\nAdjusted R2 =', adj_r2) "
   ]
  },
  {
   "cell_type": "markdown",
   "id": "e3be4226",
   "metadata": {},
   "source": [
    "# CONCLUSION"
   ]
  },
  {
   "cell_type": "markdown",
   "id": "de6f2be8",
   "metadata": {},
   "source": [
    "### UNDERSTANDING FROM EDA\n",
    "\n",
    "\n",
    "A. Rating_Category with Top 3 Highly-Rated Apps\n",
    "\n",
    "1. The apps from categories such as Events, the sum of price of apps under this category was 109.99, is highly rated with 4.41 an average rating and Average Reviews - 4.79\n",
    "\n",
    "2. The second is Education, the sum of price of apps under this category was 17.96, had the second highest average rating of 4.386 and Average Reviews - 9.489\n",
    "\n",
    "3. Art_and_Design, the sum of price of apps under this category was 5.97 only, this category app got got the third highest average rating of 4.358 and Average Reviews - 6.554\n",
    "\n",
    "\n",
    "B. Rating_Category with Top 3 Costly App Categories\n",
    "\n",
    "\n",
    "1. Finance, the costliest app category with the sum of price of 2900.83 got an average rating of 4.137 and Average Reviews - 6.179\n",
    "\n",
    "2. Family, the second costliest app category with the sum of the price of 2380.91 got an average rating of 4.203 and Average Reviews - 6.835\n",
    "\n",
    "3. Lifestyle, the third costliest app category with the sum of the price of 2353.39 got an average rating of 4.132 and Average Reviews - 5.827\n",
    "\n",
    "\n",
    "C. Rating_Category with High Reviews App Categories\n",
    "\n",
    "1. Entertainment, the app category with the highest average reviews of 10.6, got an average rating of 4.15 and the sum of price of apps under this category was 2.99 only\n",
    "\n",
    "2. Game, the  app category with the second highest average reviews of 10.09, got an average rating of 4.27 and the sum of price of apps under this category was 279.34\n",
    "\n",
    "3. Education, the  app category with the third highest average reviews of 10.09, got an average rating of 4.86 and the sum of price of apps under this category was 17.96 only\n",
    "\n",
    "\n",
    "\n",
    "### UNDERSTANDING FROM MODEL SCORES \n",
    "\n",
    "1. The model is not performing better. But still, from RMSE value of 0.282, the less errors can be seen \n",
    "2. The value for Adjusted R2 is just 22%\n",
    "\n",
    "Here, we need more data to predict the overall success of the apps in the app store. Developers thinking of incorporating more features into apps can help predict the rating_category.\n",
    "\n",
    "###### Hence, given Log Transformation does'nt seem to be adding much value, so raw data to be used for further analysis\n",
    "\n",
    "\n",
    "### SUGGESTIONS TO APP DEVELOPERS\n",
    "\n",
    "1. Keeping the price range low for apps even after incorporating the new features into app will continue the rating category of apps above 3.5. \n",
    "\n",
    "2. Education is second highly rated and third highly reviewed and this category app will boom the market, so suggesting to keep updating the features of this category apps with low price range."
   ]
  }
 ],
 "metadata": {
  "kernelspec": {
   "display_name": "Python 3 (ipykernel)",
   "language": "python",
   "name": "python3"
  },
  "language_info": {
   "codemirror_mode": {
    "name": "ipython",
    "version": 3
   },
   "file_extension": ".py",
   "mimetype": "text/x-python",
   "name": "python",
   "nbconvert_exporter": "python",
   "pygments_lexer": "ipython3",
   "version": "3.9.12"
  }
 },
 "nbformat": 4,
 "nbformat_minor": 5
}
